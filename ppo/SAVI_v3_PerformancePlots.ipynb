{
 "cells": [
  {
   "cell_type": "markdown",
   "metadata": {},
   "source": [
    "# Default training curves"
   ]
  },
  {
   "cell_type": "code",
   "execution_count": 36,
   "metadata": {},
   "outputs": [
    {
     "name": "stdout",
     "output_type": "stream",
     "text": [
      "1335\n"
     ]
    }
   ],
   "source": [
    "import csv\n",
    "\n",
    "import numpy as np\n",
    "import matplotlib as mpl\n",
    "import matplotlib.pyplot as plt\n",
    "\n",
    "# Load the data\n",
    "train_success_metric_filename = \"wandb_export_2023-12-08T02_11_09.859+09_00.csv\"\n",
    "\n",
    "train_success_metric_data = None\n",
    "with open(train_success_metric_filename, \"r\") as f:\n",
    "  csv_reader = csv.reader(f)\n",
    "  train_success_metric_data = list(csv_reader)\n",
    "\n",
    "  # for ridx, row in enumerate(csv_reader):\n",
    "  #   print(row)\n",
    "  #   if ridx == 10:\n",
    "  #     break\n",
    "print(len(train_success_metric_data))"
   ]
  },
  {
   "cell_type": "code",
   "execution_count": 56,
   "metadata": {},
   "outputs": [
    {
     "name": "stdout",
     "output_type": "stream",
     "text": [
      "0: global_step\n",
      "1: exp_name: ppo_bc__savi_ss1_rgb_spectro__gwtv3__gw_detach__usenull__grulynrm__entcoef_0.2__no_cew__h_64 (SAVI BC Dataset_v0) - _step\n",
      "2: exp_name: ppo_bc__savi_ss1_rgb_spectro__gwtv3__gw_detach__usenull__grulynrm__entcoef_0.2__no_cew__h_64 (SAVI BC Dataset_v0) - _step__MIN\n",
      "3: exp_name: ppo_bc__savi_ss1_rgb_spectro__gwtv3__gw_detach__usenull__grulynrm__entcoef_0.2__no_cew__h_64 (SAVI BC Dataset_v0) - _step__MAX\n",
      "4: exp_name: ppo_bc__savi_ss1_rgb_spectro__gwtv3__gw_detach__usenull__grulynrm__entcoef_0.2__no_cew__h_64 (SAVI BC Dataset_v0) - metrics/success\n",
      "5: exp_name: ppo_bc__savi_ss1_rgb_spectro__gwtv3__gw_detach__usenull__grulynrm__entcoef_0.2__no_cew__h_64 (SAVI BC Dataset_v0) - metrics/success__MIN\n",
      "6: exp_name: ppo_bc__savi_ss1_rgb_spectro__gwtv3__gw_detach__usenull__grulynrm__entcoef_0.2__no_cew__h_64 (SAVI BC Dataset_v0) - metrics/success__MAX\n",
      "7: exp_name: ppo_bc__savi_ss1_rgb_spectro__gruv3__gw_detach__grulynrm__entcoef_0.2__no_cew__h_64 (SAVI BC Dataset_v0) - _step\n",
      "8: exp_name: ppo_bc__savi_ss1_rgb_spectro__gruv3__gw_detach__grulynrm__entcoef_0.2__no_cew__h_64 (SAVI BC Dataset_v0) - _step__MIN\n",
      "9: exp_name: ppo_bc__savi_ss1_rgb_spectro__gruv3__gw_detach__grulynrm__entcoef_0.2__no_cew__h_64 (SAVI BC Dataset_v0) - _step__MAX\n",
      "10: exp_name: ppo_bc__savi_ss1_rgb_spectro__gruv3__gw_detach__grulynrm__entcoef_0.2__no_cew__h_64 (SAVI BC Dataset_v0) - metrics/success\n",
      "11: exp_name: ppo_bc__savi_ss1_rgb_spectro__gruv3__gw_detach__grulynrm__entcoef_0.2__no_cew__h_64 (SAVI BC Dataset_v0) - metrics/success__MIN\n",
      "12: exp_name: ppo_bc__savi_ss1_rgb_spectro__gruv3__gw_detach__grulynrm__entcoef_0.2__no_cew__h_64 (SAVI BC Dataset_v0) - metrics/success__MAX\n",
      "13: exp_name: ppo_bc__savi_ss1_rgb_spectro__gwtv3__gw_detach__usenull__grulynrm__entcoef_0.2__no_cew (SAVI BC Dataset_v0) - _step\n",
      "14: exp_name: ppo_bc__savi_ss1_rgb_spectro__gwtv3__gw_detach__usenull__grulynrm__entcoef_0.2__no_cew (SAVI BC Dataset_v0) - _step__MIN\n",
      "15: exp_name: ppo_bc__savi_ss1_rgb_spectro__gwtv3__gw_detach__usenull__grulynrm__entcoef_0.2__no_cew (SAVI BC Dataset_v0) - _step__MAX\n",
      "16: exp_name: ppo_bc__savi_ss1_rgb_spectro__gwtv3__gw_detach__usenull__grulynrm__entcoef_0.2__no_cew (SAVI BC Dataset_v0) - metrics/success\n",
      "17: exp_name: ppo_bc__savi_ss1_rgb_spectro__gwtv3__gw_detach__usenull__grulynrm__entcoef_0.2__no_cew (SAVI BC Dataset_v0) - metrics/success__MIN\n",
      "18: exp_name: ppo_bc__savi_ss1_rgb_spectro__gwtv3__gw_detach__usenull__grulynrm__entcoef_0.2__no_cew (SAVI BC Dataset_v0) - metrics/success__MAX\n",
      "19: exp_name: ppo_bc__savi_ss1_rgb_spectro__gruv3__gw_detach__grulynrm__entcoef_0.2__no_cew (SAVI BC Dataset_v0) - _step\n",
      "20: exp_name: ppo_bc__savi_ss1_rgb_spectro__gruv3__gw_detach__grulynrm__entcoef_0.2__no_cew (SAVI BC Dataset_v0) - _step__MIN\n",
      "21: exp_name: ppo_bc__savi_ss1_rgb_spectro__gruv3__gw_detach__grulynrm__entcoef_0.2__no_cew (SAVI BC Dataset_v0) - _step__MAX\n",
      "22: exp_name: ppo_bc__savi_ss1_rgb_spectro__gruv3__gw_detach__grulynrm__entcoef_0.2__no_cew (SAVI BC Dataset_v0) - metrics/success\n",
      "23: exp_name: ppo_bc__savi_ss1_rgb_spectro__gruv3__gw_detach__grulynrm__entcoef_0.2__no_cew (SAVI BC Dataset_v0) - metrics/success__MIN\n",
      "24: exp_name: ppo_bc__savi_ss1_rgb_spectro__gruv3__gw_detach__grulynrm__entcoef_0.2__no_cew (SAVI BC Dataset_v0) - metrics/success__MAX\n"
     ]
    }
   ],
   "source": [
    "headers_row = train_success_metric_data[0]; headers_row\n",
    "for cidx, header in enumerate(headers_row):\n",
    "  # if header.endswith(\"metrics/success\"):\n",
    "  print(f\"{cidx}: {header}\")\n"
   ]
  },
  {
   "cell_type": "code",
   "execution_count": 38,
   "metadata": {},
   "outputs": [
    {
     "name": "stdout",
     "output_type": "stream",
     "text": [
      "['global_step', 'exp_name: ppo_bc__savi_ss1_rgb_spectro__gwtv3__gw_detach__usenull__grulynrm__entcoef_0.2__no_cew__h_64 (SAVI BC Dataset_v0) - _step', 'exp_name: ppo_bc__savi_ss1_rgb_spectro__gwtv3__gw_detach__usenull__grulynrm__entcoef_0.2__no_cew__h_64 (SAVI BC Dataset_v0) - _step__MIN', 'exp_name: ppo_bc__savi_ss1_rgb_spectro__gwtv3__gw_detach__usenull__grulynrm__entcoef_0.2__no_cew__h_64 (SAVI BC Dataset_v0) - _step__MAX', 'exp_name: ppo_bc__savi_ss1_rgb_spectro__gwtv3__gw_detach__usenull__grulynrm__entcoef_0.2__no_cew__h_64 (SAVI BC Dataset_v0) - metrics/success', 'exp_name: ppo_bc__savi_ss1_rgb_spectro__gwtv3__gw_detach__usenull__grulynrm__entcoef_0.2__no_cew__h_64 (SAVI BC Dataset_v0) - metrics/success__MIN', 'exp_name: ppo_bc__savi_ss1_rgb_spectro__gwtv3__gw_detach__usenull__grulynrm__entcoef_0.2__no_cew__h_64 (SAVI BC Dataset_v0) - metrics/success__MAX', 'exp_name: ppo_bc__savi_ss1_rgb_spectro__gruv3__gw_detach__grulynrm__entcoef_0.2__no_cew__h_64 (SAVI BC Dataset_v0) - _step', 'exp_name: ppo_bc__savi_ss1_rgb_spectro__gruv3__gw_detach__grulynrm__entcoef_0.2__no_cew__h_64 (SAVI BC Dataset_v0) - _step__MIN', 'exp_name: ppo_bc__savi_ss1_rgb_spectro__gruv3__gw_detach__grulynrm__entcoef_0.2__no_cew__h_64 (SAVI BC Dataset_v0) - _step__MAX', 'exp_name: ppo_bc__savi_ss1_rgb_spectro__gruv3__gw_detach__grulynrm__entcoef_0.2__no_cew__h_64 (SAVI BC Dataset_v0) - metrics/success', 'exp_name: ppo_bc__savi_ss1_rgb_spectro__gruv3__gw_detach__grulynrm__entcoef_0.2__no_cew__h_64 (SAVI BC Dataset_v0) - metrics/success__MIN', 'exp_name: ppo_bc__savi_ss1_rgb_spectro__gruv3__gw_detach__grulynrm__entcoef_0.2__no_cew__h_64 (SAVI BC Dataset_v0) - metrics/success__MAX', 'exp_name: ppo_bc__savi_ss1_rgb_spectro__gwtv3__gw_detach__usenull__grulynrm__entcoef_0.2__no_cew (SAVI BC Dataset_v0) - _step', 'exp_name: ppo_bc__savi_ss1_rgb_spectro__gwtv3__gw_detach__usenull__grulynrm__entcoef_0.2__no_cew (SAVI BC Dataset_v0) - _step__MIN', 'exp_name: ppo_bc__savi_ss1_rgb_spectro__gwtv3__gw_detach__usenull__grulynrm__entcoef_0.2__no_cew (SAVI BC Dataset_v0) - _step__MAX', 'exp_name: ppo_bc__savi_ss1_rgb_spectro__gwtv3__gw_detach__usenull__grulynrm__entcoef_0.2__no_cew (SAVI BC Dataset_v0) - metrics/success', 'exp_name: ppo_bc__savi_ss1_rgb_spectro__gwtv3__gw_detach__usenull__grulynrm__entcoef_0.2__no_cew (SAVI BC Dataset_v0) - metrics/success__MIN', 'exp_name: ppo_bc__savi_ss1_rgb_spectro__gwtv3__gw_detach__usenull__grulynrm__entcoef_0.2__no_cew (SAVI BC Dataset_v0) - metrics/success__MAX', 'exp_name: ppo_bc__savi_ss1_rgb_spectro__gruv3__gw_detach__grulynrm__entcoef_0.2__no_cew (SAVI BC Dataset_v0) - _step', 'exp_name: ppo_bc__savi_ss1_rgb_spectro__gruv3__gw_detach__grulynrm__entcoef_0.2__no_cew (SAVI BC Dataset_v0) - _step__MIN', 'exp_name: ppo_bc__savi_ss1_rgb_spectro__gruv3__gw_detach__grulynrm__entcoef_0.2__no_cew (SAVI BC Dataset_v0) - _step__MAX', 'exp_name: ppo_bc__savi_ss1_rgb_spectro__gruv3__gw_detach__grulynrm__entcoef_0.2__no_cew (SAVI BC Dataset_v0) - metrics/success', 'exp_name: ppo_bc__savi_ss1_rgb_spectro__gruv3__gw_detach__grulynrm__entcoef_0.2__no_cew (SAVI BC Dataset_v0) - metrics/success__MIN', 'exp_name: ppo_bc__savi_ss1_rgb_spectro__gruv3__gw_detach__grulynrm__entcoef_0.2__no_cew (SAVI BC Dataset_v0) - metrics/success__MAX']\n",
      "['1', '1', '1', '1', '0', '0', '0', '1', '1', '1', '0', '0', '0', '1', '1', '1', '0', '0', '0', '1', '1', '1', '0', '0', '0']\n",
      "['15001', '11', '11', '11', '0', '0', '0', '11', '11', '11', '0', '0', '0', '11', '11', '11', '0', '0', '0', '11', '11', '11', '0', '0', '0']\n",
      "['30001', '21', '21', '21', '0', '0', '0', '21', '21', '21', '0', '0', '0', '21', '21', '21', '0', '0', '0', '21', '21', '21', '0', '0', '0']\n",
      "['45001', '31', '31', '31', '0', '0', '0', '31', '31', '31', '0', '0', '0', '31', '31', '31', '0', '0', '0', '31', '31', '31', '0', '0', '0']\n",
      "['60001', '41', '41', '41', '0', '0', '0', '41', '41', '41', '0', '0', '0', '41', '41', '41', '0', '0', '0', '41', '41', '41', '0', '0', '0']\n",
      "['75001', '51', '51', '51', '0', '0', '0', '51', '51', '51', '0', '0', '0', '51', '51', '51', '0', '0', '0', '51', '51', '51', '0', '0', '0']\n",
      "['90001', '61', '61', '61', '0', '0', '0', '61', '61', '61', '0', '0', '0', '61', '61', '61', '0', '0', '0', '61', '61', '61', '0', '0', '0']\n",
      "['105001', '71', '71', '71', '0', '0', '0', '71', '71', '71', '0', '0', '0', '71', '71', '71', '0', '0', '0', '71', '71', '71', '0', '0', '0']\n",
      "['120001', '81', '81', '81', '0', '0', '0', '81', '81', '81', '0', '0', '0', '81', '81', '81', '0', '0', '0', '81', '81', '81', '0', '0', '0']\n"
     ]
    }
   ],
   "source": [
    "for ridx, row in enumerate(train_success_metric_data[:10]):\n",
    "  print(row)"
   ]
  },
  {
   "cell_type": "code",
   "execution_count": 131,
   "metadata": {},
   "outputs": [
    {
     "name": "stdout",
     "output_type": "stream",
     "text": [
      "GW H=512: 1300\n",
      "GRU H=512: 1300\n"
     ]
    },
    {
     "data": {
      "image/png": "[encoded data removed]",
      "text/plain": [
       "<Figure size 432x432 with 1 Axes>"
      ]
     },
     "metadata": {
      "needs_background": "light"
     },
     "output_type": "display_data"
    }
   ],
   "source": [
    "# Recover the global training step for the x axis\n",
    "MAX_STEP = 1301\n",
    "xs = [int(row[0]) for row in train_success_metric_data[1:MAX_STEP]]; len(xs)\n",
    "# Recover the success rate that was logged for each varaitns\n",
    "\n",
    "EXPNAME_TO_CSV_CIDX = {\n",
    "  # \"GW H=64\": 4,\n",
    "  # \"GRU H=64\": 10,\n",
    "  \"GW H=512\": 16,\n",
    "  \"GRU H=512\": 22\n",
    "}\n",
    "EXPNAME_TO_COLOR = {\n",
    "  \"GW H=64\": \"green\",\n",
    "  \"GRU H=64\": \"blue\",\n",
    "  \"GW H=512\": \"darkblue\",\n",
    "  \"GRU H=512\": \"darkgreen\",\n",
    "}\n",
    "\n",
    "# Holdes the list of success rates for each global step for each experiment variant\n",
    "EXPNAME_SCORE_LIST = {k: [] for k in EXPNAME_TO_CSV_CIDX.keys()}; EXPNAME_SCORE_LIST\n",
    "EXPNAME_SCORE_MIN_LIST = {k: [] for k in EXPNAME_TO_CSV_CIDX.keys()}; EXPNAME_SCORE_LIST\n",
    "EXPNAME_SCORE_MAX_LIST = {k: [] for k in EXPNAME_TO_CSV_CIDX.keys()}; EXPNAME_SCORE_LIST\n",
    "\n",
    "for row in train_success_metric_data[1:MAX_STEP]:\n",
    "  for expname, cidx in EXPNAME_TO_CSV_CIDX.items():\n",
    "    EXPNAME_SCORE_LIST[expname].append(float(row[cidx]))\n",
    "    EXPNAME_SCORE_MIN_LIST[expname].append(float(row[cidx+1]))\n",
    "    EXPNAME_SCORE_MAX_LIST[expname].append(float(row[cidx+2]))\n",
    "\n",
    "EXPNAME_SCORE_LIST = {k: np.array(v) for k, v in EXPNAME_SCORE_LIST.items()}\n",
    "EXPNAME_SCORE_MIN_LIST = {k: np.array(v) for k, v in EXPNAME_SCORE_MIN_LIST.items()}\n",
    "EXPNAME_SCORE_MAX_LIST = {k: np.array(v) for k, v in EXPNAME_SCORE_MAX_LIST.items()}\n",
    "\n",
    "# Check that the scores were properly extracted\n",
    "for k, v in EXPNAME_SCORE_LIST.items():\n",
    "  print(f\"{k}: {len(v)}\")\n",
    "\n",
    "\n",
    "SMTH = 50\n",
    "FONTSIZE=14\n",
    "\n",
    "plt.rc(\"font\", size=12)\n",
    "fig, ax = plt.subplots(1, 1, figsize=(6, 6))\n",
    "for expname, exp_score_list in EXPNAME_SCORE_LIST.items():\n",
    "  ax.plot(np.arange(0, len(xs), SMTH), exp_score_list.reshape(-1, SMTH).mean(axis=1).reshape(-1),\n",
    "          c=EXPNAME_TO_COLOR[expname], label=expname)\n",
    "  ax.fill_between(\n",
    "    np.arange(0, len(xs), SMTH),\n",
    "    EXPNAME_SCORE_MIN_LIST[expname].reshape(-1, SMTH).mean(axis=1).reshape(-1),\n",
    "    EXPNAME_SCORE_MAX_LIST[expname].reshape(-1, SMTH).mean(axis=1).reshape(-1),\n",
    "    alpha=0.15,\n",
    "    color=EXPNAME_TO_COLOR[expname]\n",
    "  )\n",
    "\n",
    "# Customize the x-axis ticks\n",
    "# tick_positions = np.linspace(0, 1300, num=10)  # Adjust the number of ticks as needed\n",
    "tick_positions = np.arange(0, 1300 + 1, 200)  # Adjust the step size as needed\n",
    "tick_labels = ['{:d}'.format(int(i *  20 / 1300)) for i in tick_positions]\n",
    "\n",
    "# Use scientific notation for x-axis labels\n",
    "# formatter = mpl.ticker.ScalarFormatter(useMathText=True)\n",
    "# ax.xaxis.set_major_formatter(formatter)\n",
    "# ax.xaxis.offsetText.set_visible(False)  # Hide the offset text (e.g., \"+2e7\")\n",
    "\n",
    "ax.set_xticks(tick_positions)\n",
    "ax.set_xticklabels(tick_labels)\n",
    "\n",
    "ax.set_ylabel(\"Success rate\", fontsize=FONTr~SIZE)\n",
    "ax.set_xlabel(\"Time steps ($ \\\\times 10^6$)\", fontsize=FONTSIZE)\n",
    "ax.legend(loc=\"lower right\")\n",
    "# ax.set_xlim(0, 1400)\n",
    "ax.grid(True)\n",
    "\n",
    "# fig.savefig(\"GRU_GW_H_64_TrainingCurves.pdf\")\n",
    "# fig.savefig(\"GRU_GW_H_512_TrainingCurves.pdf\")"
   ]
  },
  {
   "cell_type": "code",
   "execution_count": null,
   "metadata": {},
   "outputs": [],
   "source": []
  },
  {
   "cell_type": "markdown",
   "metadata": {},
   "source": [
    "# Rliable"
   ]
  },
  {
   "cell_type": "code",
   "execution_count": 4,
   "metadata": {},
   "outputs": [
    {
     "name": "stdout",
     "output_type": "stream",
     "text": [
      "Collecting git+https://github.com/google-research/rliable\n",
      "  Cloning https://github.com/google-research/rliable to /tmp/pip-req-build-04i7utvd\n",
      "  Running command git clone --filter=blob:none --quiet https://github.com/google-research/rliable /tmp/pip-req-build-04i7utvd\n",
      "  Resolved https://github.com/google-research/rliable to commit b11d308fd4afb3e20f1a01f42cdcb30f40fc9f93\n",
      "  Preparing metadata (setup.py) ... \u001b[?25ldone\n",
      "\u001b[?25hCollecting arch==5.3.0\n",
      "  Using cached arch-5.3.0-cp39-cp39-manylinux_2_17_x86_64.manylinux2014_x86_64.whl (907 kB)\n",
      "Requirement already satisfied: scipy>=1.7.0 in /home/rousslan/anaconda3/envs/ss-hab-headless-py39/lib/python3.9/site-packages (from rliable==1.0.8) (1.8.1)\n",
      "Requirement already satisfied: absl-py>=0.9.0 in /home/rousslan/anaconda3/envs/ss-hab-headless-py39/lib/python3.9/site-packages/absl_py-1.2.0-py3.9.egg (from rliable==1.0.8) (1.2.0)\n",
      "Requirement already satisfied: numpy>=1.16.4 in /home/rousslan/anaconda3/envs/ss-hab-headless-py39/lib/python3.9/site-packages (from rliable==1.0.8) (1.22.4)\n",
      "Requirement already satisfied: seaborn>=0.11.2 in /home/rousslan/anaconda3/envs/ss-hab-headless-py39/lib/python3.9/site-packages (from rliable==1.0.8) (0.12.0)\n",
      "Collecting statsmodels>=0.11\n",
      "  Using cached statsmodels-0.14.0-cp39-cp39-manylinux_2_17_x86_64.manylinux2014_x86_64.whl (10.1 MB)\n",
      "Collecting property-cached>=1.6.4\n",
      "  Using cached property_cached-1.6.4-py2.py3-none-any.whl (7.8 kB)\n",
      "Requirement already satisfied: pandas>=1.0 in /home/rousslan/anaconda3/envs/ss-hab-headless-py39/lib/python3.9/site-packages (from arch==5.3.0->rliable==1.0.8) (1.4.3)\n",
      "Requirement already satisfied: matplotlib>=3.1 in /home/rousslan/anaconda3/envs/ss-hab-headless-py39/lib/python3.9/site-packages (from seaborn>=0.11.2->rliable==1.0.8) (3.5.2)\n",
      "Requirement already satisfied: packaging>=20.0 in /home/rousslan/anaconda3/envs/ss-hab-headless-py39/lib/python3.9/site-packages (from matplotlib>=3.1->seaborn>=0.11.2->rliable==1.0.8) (21.3)\n",
      "Requirement already satisfied: fonttools>=4.22.0 in /home/rousslan/anaconda3/envs/ss-hab-headless-py39/lib/python3.9/site-packages (from matplotlib>=3.1->seaborn>=0.11.2->rliable==1.0.8) (4.34.4)\n",
      "Requirement already satisfied: python-dateutil>=2.7 in /home/rousslan/anaconda3/envs/ss-hab-headless-py39/lib/python3.9/site-packages (from matplotlib>=3.1->seaborn>=0.11.2->rliable==1.0.8) (2.8.2)\n",
      "Requirement already satisfied: kiwisolver>=1.0.1 in /home/rousslan/anaconda3/envs/ss-hab-headless-py39/lib/python3.9/site-packages (from matplotlib>=3.1->seaborn>=0.11.2->rliable==1.0.8) (1.4.4)\n",
      "Requirement already satisfied: pillow>=6.2.0 in /home/rousslan/anaconda3/envs/ss-hab-headless-py39/lib/python3.9/site-packages (from matplotlib>=3.1->seaborn>=0.11.2->rliable==1.0.8) (9.2.0)\n",
      "Requirement already satisfied: pyparsing>=2.2.1 in /home/rousslan/anaconda3/envs/ss-hab-headless-py39/lib/python3.9/site-packages (from matplotlib>=3.1->seaborn>=0.11.2->rliable==1.0.8) (3.0.9)\n",
      "Requirement already satisfied: cycler>=0.10 in /home/rousslan/anaconda3/envs/ss-hab-headless-py39/lib/python3.9/site-packages (from matplotlib>=3.1->seaborn>=0.11.2->rliable==1.0.8) (0.11.0)\n",
      "Requirement already satisfied: pytz>=2020.1 in /home/rousslan/anaconda3/envs/ss-hab-headless-py39/lib/python3.9/site-packages (from pandas>=1.0->arch==5.3.0->rliable==1.0.8) (2022.1)\n",
      "Collecting patsy>=0.5.2\n",
      "  Using cached patsy-0.5.4-py2.py3-none-any.whl (233 kB)\n",
      "Requirement already satisfied: six in /home/rousslan/anaconda3/envs/ss-hab-headless-py39/lib/python3.9/site-packages (from patsy>=0.5.2->statsmodels>=0.11->arch==5.3.0->rliable==1.0.8) (1.16.0)\n",
      "Building wheels for collected packages: rliable\n",
      "  Building wheel for rliable (setup.py) ... \u001b[?25ldone\n",
      "\u001b[?25h  Created wheel for rliable: filename=rliable-1.0.8-py3-none-any.whl size=19872 sha256=f368335e821ec66bb8220ee0664ddeb0828ea6d30ac5d35be87039b016c73c00\n",
      "  Stored in directory: /tmp/pip-ephem-wheel-cache-4ugcy49b/wheels/f9/09/6d/d9ba2901d9e60a62c5a256d83e050b03e3201a4f28b89b38da\n",
      "Successfully built rliable\n",
      "Installing collected packages: property-cached, patsy, statsmodels, arch, rliable\n",
      "Successfully installed arch-5.3.0 patsy-0.5.4 property-cached-1.6.4 rliable-1.0.8 statsmodels-0.14.0\n",
      "Collecting inflection\n",
      "  Using cached inflection-0.5.1-py2.py3-none-any.whl (9.5 kB)\n",
      "Installing collected packages: inflection\n",
      "Successfully installed inflection-0.5.1\n"
     ]
    }
   ],
   "source": [
    "!pip3 install git+https://github.com/google-research/rliable\n",
    "!pip3 install inflection"
   ]
  },
  {
   "cell_type": "code",
   "execution_count": 5,
   "metadata": {},
   "outputs": [],
   "source": [
    "from rliable import library as rly\n",
    "from rliable import metrics\n",
    "from rliable import plot_utils"
   ]
  },
  {
   "cell_type": "code",
   "execution_count": null,
   "metadata": {},
   "outputs": [],
   "source": [
    "# @title Imports\n",
    " \n",
    "import collections\n",
    "import numpy as np\n",
    "import matplotlib.patches as patches\n",
    "import sys\n",
    "import pickle\n",
    "import pandas as pd\n",
    "import copy\n",
    "import functools\n",
    "import json\n",
    "import os\n",
    "\n",
    "import itertools as it\n",
    "import random\n",
    "import inspect\n",
    "import scipy.stats\n",
    " \n",
    "import getpass\n",
    "import os.path as osp\n",
    " \n",
    "# See warnings only once\n",
    "import warnings\n",
    "warnings.filterwarnings('default')\n",
    " \n",
    "# from google.colab import files\n",
    "import inflection\n",
    "from functools import partial\n",
    "\n",
    "# The answer to life, universe and everything\n",
    "RAND_STATE = np.random.RandomState(42)\n",
    "\n",
    "import logging\n",
    "logger = logging.getLogger()\n",
    "logger.setLevel(logging.INFO)"
   ]
  },
  {
   "cell_type": "code",
   "execution_count": null,
   "metadata": {},
   "outputs": [],
   "source": [
    "#@title Plotting: Seaborn style and matplotlib params\n",
    "import matplotlib.pyplot as plt\n",
    "from matplotlib.ticker import PercentFormatter\n",
    "from matplotlib.ticker import MaxNLocator\n",
    "import matplotlib.patches as mpatches\n",
    "import seaborn as sns\n",
    "\n",
    "sns.set_style(\"white\")\n",
    "\n",
    "# Matplotlib params\n",
    "from matplotlib import rcParams\n",
    "from matplotlib import rc\n",
    "\n",
    "rcParams['legend.loc'] = 'best'\n",
    "rcParams['pdf.fonttype'] = 42\n",
    "rcParams['ps.fonttype'] = 42\n",
    "\n",
    "rc('text', usetex=False)"
   ]
  },
  {
   "cell_type": "code",
   "execution_count": null,
   "metadata": {},
   "outputs": [],
   "source": [
    "#@title Plotting Helpers\n",
    "# from google.colab import files\n",
    "\n",
    "def save_fig(fig, name):\n",
    "  file_name = '{}.pdf'.format(name)\n",
    "  fig.savefig(file_name, format='pdf', bbox_inches='tight')\n",
    "  # files.download(file_name) \n",
    "  return file_name\n",
    "\n",
    "def set_axes(ax, xlim, ylim, xlabel, ylabel):\n",
    "  ax.set_xlim(xlim)\n",
    "  ax.set_ylim(ylim)\n",
    "  ax.set_xlabel(xlabel, labelpad=14)\n",
    "  ax.set_ylabel(ylabel, labelpad=14)\n",
    " \n",
    "def set_ticks(ax, xticks, xticklabels, yticks, yticklabels):\n",
    "  ax.set_xticks(xticks)\n",
    "  ax.set_xticklabels(xticklabels)\n",
    "  ax.set_yticks(yticks)\n",
    "  ax.set_yticklabels(yticklabels)\n",
    "\n",
    "def decorate_axis(ax, wrect=10, hrect=10, labelsize='large'):\n",
    "  # Hide the right and top spines\n",
    "  ax.spines['right'].set_visible(False)\n",
    "  ax.spines['top'].set_visible(False)\n",
    "  ax.spines['left'].set_linewidth(2)\n",
    "  ax.spines['bottom'].set_linewidth(2)\n",
    "  # Deal with ticks and the blank space at the origin\n",
    "  ax.tick_params(length=0.1, width=0.1, labelsize=labelsize)\n",
    "  # Pablos' comment\n",
    "  ax.spines['left'].set_position(('outward', hrect))\n",
    "  ax.spines['bottom'].set_position(('outward', wrect))"
   ]
  },
  {
   "cell_type": "code",
   "execution_count": null,
   "metadata": {},
   "outputs": [],
   "source": [
    "#@title Authenticate user to access GCP bucket (copy and enter the authentication code when you run the cell)\n",
    "from google.colab import auth\n",
    "auth.authenticate_user()"
   ]
  }
 ],
 "metadata": {
  "kernelspec": {
   "display_name": "ss-hab-headless-py39",
   "language": "python",
   "name": "python3"
  },
  "language_info": {
   "codemirror_mode": {
    "name": "ipython",
    "version": 3
   },
   "file_extension": ".py",
   "mimetype": "text/x-python",
   "name": "python",
   "nbconvert_exporter": "python",
   "pygments_lexer": "ipython3",
   "version": "3.9.12"
  }
 },
 "nbformat": 4,
 "nbformat_minor": 2
}
