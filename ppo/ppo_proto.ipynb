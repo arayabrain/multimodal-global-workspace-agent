{
 "cells": [
  {
   "cell_type": "code",
   "execution_count": null,
   "metadata": {},
   "outputs": [],
   "source": [
    "# Custom PPO implementation with Soundspaces 2.0\n",
    "from configurator import generate_args, get_arg_dict\n",
    "from th_logger import TBXLogger as TBLogger\n",
    "\n",
    "# Env deps: Soundspaces and Habitat\n",
    "from habitat.datasets import make_dataset\n",
    "from ss_baselines.av_nav.config import get_config\n",
    "from ss_baselines.common.environments import AudioNavRLEnv\n",
    "from ss_baselines.common.env_utils import construct_envs\n",
    "from ss_baselines.common.environments import get_env_class\n",
    "\n",
    "# Environment config\n",
    "# TODO: Override some of the config elements through arg parse ?\n",
    "env_config = get_config(\n",
    "    config_paths=\"env_configs/audiogoal_rgb.yaml\",\n",
    "    # run_type=\"train\"\n",
    ")\n",
    "# env_config.defrost()\n",
    "# env_config.TASK_CONFIG.TASK.MEASUREMENTS.append(\"TOP_DOWN_MAP\") # Note: can we add audio sensory info fields here too ?\n",
    "# env_config.TASK_CONFIG.DATASET.SPLIT = config.EVAL.SPLIT\n",
    "# env_config.freeze()\n",
    "# print(env_config)\n",
    "\n",
    "# dataset = make_dataset(id_dataset=env_config.TASK_CONFIG.DATASET.TYPE,\n",
    "#                        config=env_config.TASK_CONFIG.DATASET)\n",
    "# env = AudioNavRLEnv(config=env_config, dataset=dataset)\n",
    "# print(env)\n",
    "\n",
    "envs = construct_envs(env_config, get_env_class(env_config.ENV_NAME))\n",
    "print(envs)\n"
   ]
  }
 ],
 "metadata": {
  "kernelspec": {
   "display_name": "Python 3.9.12 ('ss-hab-headless-py39')",
   "language": "python",
   "name": "python3"
  },
  "language_info": {
   "codemirror_mode": {
    "name": "ipython",
    "version": 3
   },
   "file_extension": ".py",
   "mimetype": "text/x-python",
   "name": "python",
   "nbconvert_exporter": "python",
   "pygments_lexer": "ipython3",
   "version": "3.9.12"
  },
  "orig_nbformat": 4,
  "vscode": {
   "interpreter": {
    "hash": "8606c1569764bc263c51958f68bba938f45460ba430fa08f16cdd64c0c2e55c2"
   }
  }
 },
 "nbformat": 4,
 "nbformat_minor": 2
}
