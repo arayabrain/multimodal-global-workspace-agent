{
 "cells": [
  {
   "cell_type": "code",
   "execution_count": 1,
   "metadata": {},
   "outputs": [
    {
     "name": "stderr",
     "output_type": "stream",
     "text": [
      "/home/rousslan/anaconda3/envs/ss-hab-headless-py39/lib/python3.9/site-packages/tqdm/auto.py:22: TqdmWarning: IProgress not found. Please update jupyter and ipywidgets. See https://ipywidgets.readthedocs.io/en/stable/user_install.html\n",
      "  from .autonotebook import tqdm as notebook_tqdm\n"
     ]
    }
   ],
   "source": [
    "import random\n",
    "import numpy as np\n",
    "\n",
    "import torch\n",
    "import torch as th\n",
    "import torch.nn as nn\n",
    "from torch import Tensor"
   ]
  },
  {
   "cell_type": "code",
   "execution_count": 18,
   "metadata": {},
   "outputs": [],
   "source": [
    "# Notebook support or argpase\n",
    "import sys; sys.argv=['']; del sys\n",
    "\n",
    "# General config related\n",
    "from configurator import get_arg_dict, generate_args\n",
    "\n",
    "# Env config related\n",
    "from ss_baselines.av_nav.config import get_config\n",
    "from ss_baselines.savi.config.default import get_config as get_savi_config\n",
    "from ss_baselines.common.env_utils import construct_envs\n",
    "from ss_baselines.common.environments import get_env_class\n",
    "\n",
    "# region: Generating additional hyparams\n",
    "CUSTOM_ARGS = [\n",
    "    # General hyper parameters\n",
    "    get_arg_dict(\"seed\", int, 111),\n",
    "    get_arg_dict(\"total-steps\", int, 1_000_000),\n",
    "\n",
    "    # SS env config\n",
    "    get_arg_dict(\"config-path\", str, \"env_configs/audiogoal_rgb_nocont.yaml\"),\n",
    "\n",
    "    # PPO Hyper parameters\n",
    "    get_arg_dict(\"num-envs\", int, 1), # Number of parallel envs. 10 by default\n",
    "    get_arg_dict(\"num-steps\", int, 150), # For each env, how many steps are collected to form PPO Agent rollout.\n",
    "    get_arg_dict(\"num-minibatches\", int, 1), # Number of mini-batches the rollout data is split into to make the updates\n",
    "    get_arg_dict(\"update-epochs\", int, 4), # Number of gradient step for the policy and value networks\n",
    "    get_arg_dict(\"gamma\", float, 0.99),\n",
    "    get_arg_dict(\"gae-lambda\", float, 0.95),\n",
    "    get_arg_dict(\"norm-adv\", bool, True, metatype=\"bool\"),\n",
    "    get_arg_dict(\"clip-coef\", float, 0.1), # Surrogate loss clipping coefficient\n",
    "    get_arg_dict(\"clip-vloss\", bool, True, metatype=\"bool\"),\n",
    "    get_arg_dict(\"ent-coef\", float, 0.2), # Entropy loss coef; 0.2 in SS baselines\n",
    "    get_arg_dict(\"vf-coef\", float, 0.5), # Value loss coefficient\n",
    "    get_arg_dict(\"max-grad-norm\", float, 0.5),\n",
    "    get_arg_dict(\"target-kl\", float, None),\n",
    "    get_arg_dict(\"lr\", float, 2.5e-4), # Learning rate\n",
    "    get_arg_dict(\"optim-wd\", float, 0), # weight decay for adam optim\n",
    "    ## Agent network params\n",
    "    get_arg_dict(\"agent-type\", str, \"ss-default\", metatype=\"choice\",\n",
    "        choices=[\"ss-default\", \"deep-etho\",\n",
    "                    \"perceiver-gwt-gwwm\", \"perceiver-gwt-attgru\"]),\n",
    "    get_arg_dict(\"hidden-size\", int, 512), # Size of the visual / audio features and RNN hidden states \n",
    "    ## Perceiver / PerceiverIO params: TODO: num_latnets, latent_dim, etc...\n",
    "    get_arg_dict(\"pgwt-latent-type\", str, \"randn\", metatype=\"choice\",\n",
    "        choices=[\"randn\", \"zeros\"]), # Depth of the Perceiver\n",
    "    get_arg_dict(\"pgwt-latent-learned\", bool, True, metatype=\"bool\"),\n",
    "    get_arg_dict(\"pgwt-depth\", int, 1), # Depth of the Perceiver\n",
    "    get_arg_dict(\"pgwt-num-latents\", int, 8),\n",
    "    get_arg_dict(\"pgwt-latent-dim\", int, 64),\n",
    "    get_arg_dict(\"pgwt-cross-heads\", int, 1),\n",
    "    get_arg_dict(\"pgwt-latent-heads\", int, 4),\n",
    "    get_arg_dict(\"pgwt-cross-dim-head\", int, 64),\n",
    "    get_arg_dict(\"pgwt-latent-dim-head\", int, 64),\n",
    "    get_arg_dict(\"pgwt-weight-tie-layers\", bool, False, metatype=\"bool\"),\n",
    "    get_arg_dict(\"pgwt-ff\", bool, False, metatype=\"bool\"),\n",
    "    get_arg_dict(\"pgwt-num-freq-bands\", int, 6),\n",
    "    get_arg_dict(\"pgwt-max-freq\", int, 10.),\n",
    "    get_arg_dict(\"pgwt-use-sa\", bool, False, metatype=\"bool\"),\n",
    "    ## Peceiver Modality Embedding related\n",
    "    get_arg_dict(\"pgwt-mod-embed\", int, 0), # Learnable modality embeddings\n",
    "    ## Additional modalities\n",
    "    get_arg_dict(\"pgwt-ca-prev-latents\", bool, True, metatype=\"bool\"), # if True, passes the prev latent to CA as KV input data\n",
    "\n",
    "    # Logging params\n",
    "    # NOTE: While supported, video logging is expensive because the RGB generation in the\n",
    "    # envs hogs a lot of GPU, especially with multiple envs \n",
    "    get_arg_dict(\"save-videos\", bool, False, metatype=\"bool\"),\n",
    "    get_arg_dict(\"save-model\", bool, True, metatype=\"bool\"),\n",
    "    get_arg_dict(\"log-sampling-stats-every\", int, int(1.5e3)), # Every X frames || steps sampled\n",
    "    get_arg_dict(\"log-training-stats-every\", int, int(10)), # Every X model update\n",
    "    get_arg_dict(\"logdir-prefix\", str, \"./logs/\") # Overrides the default one\n",
    "]\n",
    "args = generate_args(CUSTOM_ARGS)\n",
    "\n",
    "# Additional PPO overrides\n",
    "args.batch_size = int(args.num_envs * args.num_steps)\n",
    "args.minibatch_size = int(args.batch_size // args.num_minibatches)\n"
   ]
  },
  {
   "cell_type": "code",
   "execution_count": null,
   "metadata": {},
   "outputs": [],
   "source": [
    "\n",
    "# Load environment config\n",
    "is_SAVi = str.__contains__(args.config_path, \"savi\")\n",
    "if is_SAVi:\n",
    "    env_config = get_savi_config(config_paths=args.config_path)\n",
    "else:\n",
    "    env_config = get_config(config_paths=args.config_path)\n",
    "# endregion: Generating additional hyparams\n",
    "\n",
    "# Overriding some envs parametes from the .yaml env config\n",
    "env_config.defrost()\n",
    "env_config.NUM_PROCESSES = 1 # Corresponds to number of envs, makes script startup faster for debugs\n",
    "env_config.USE_SYNC_VECENV = True\n",
    "# env_config.USE_VECENV = False\n",
    "# env_config.CONTINUOUS = args.env_continuous\n",
    "## In caes video saving is enabled, make sure there is also the rgb videos\n",
    "env_config.freeze()\n",
    "# print(env_config)\n",
    "\n",
    "# Environment instantiation\n",
    "envs = construct_envs(env_config, get_env_class(env_config.ENV_NAME))\n",
    "single_observation_space = envs.observation_spaces[0]\n",
    "single_action_space = envs.action_spaces[0]\n",
    "\n",
    "single_observation_space, single_action_space"
   ]
  },
  {
   "cell_type": "code",
   "execution_count": 23,
   "metadata": {},
   "outputs": [
    {
     "data": {
      "text/plain": [
       "<All keys matched successfully>"
      ]
     },
     "execution_count": 23,
     "metadata": {},
     "output_type": "execute_result"
    }
   ],
   "source": [
    "# TODO seeding for reproducibility ? Make sure that we can control the generated episode trajs ?\n",
    "\n",
    "# Loading pretrained agent\n",
    "import models\n",
    "from models import ActorCritic, Perceiver_GWT_GWWM_ActorCritic\n",
    "## PPO GRU agent working with RGB observations\n",
    "ppo_gru_agent_state_dict = th.load(\"/home/rousslan/random/rl/exp-logs/ss-hab/ppo_av_nav__ss1_rgb_spectro_seed_111__2022_09_06_13_59_13_931240.musashi/models/ppo_agent.994501.ckpt.pth\")\n",
    "ppo_gru_agent = ActorCritic(single_observation_space, single_action_space, args.hidden_size, extra_rgb=False,\n",
    "    analysis_layers=models.GRU_ACTOR_CRITIC_DEFAULT_ANALYSIS_LAYER_NAMES)\n",
    "ppo_gru_agent.eval()\n",
    "ppo_gru_agent.load_state_dict(ppo_gru_agent_state_dict)\n",
    "\n",
    "## PPO PGWT working with RGB observations\n",
    "ppo_pgwt_agent_state_dict = th.load(\"/home/rousslan/random/rl/exp-logs/ss-hab/ppo_av_nav__ss1_rgb_spectro__pgwt_gwwm__dpth_1_nlats_8_latdim_64_noSA_CAnheads_1_SAnheads_4_modembed_0_CAprevlats_seed_111__2022_09_06_14_43_49_094181.musashi/models/ppo_agent.993001.ckpt.pth\")\n",
    "ppo_pgwt_agent = Perceiver_GWT_GWWM_ActorCritic(single_observation_space, single_action_space, args, extra_rgb=False,\n",
    "    analysis_layers=models.PGWT_GWWM_ACTOR_CRITIC_DEFAULT_ANALYSIS_LAYER_NAMES)\n",
    "ppo_pgwt_agent.eval()\n",
    "ppo_pgwt_agent.load_state_dict(ppo_pgwt_agent_state_dict)"
   ]
  },
  {
   "cell_type": "code",
   "execution_count": 110,
   "metadata": {},
   "outputs": [
    {
     "data": {
      "text/plain": [
       "46"
      ]
     },
     "execution_count": 110,
     "metadata": {},
     "output_type": "execute_result"
    }
   ],
   "source": [
    "\n",
    "# Collecting episode data\n",
    "## Helper\n",
    "dev = th.device(\"cpu\")\n",
    "def tensorize_obs_dict(obs, device, observations=None, rollout_step=None):\n",
    "    obs_th = {}\n",
    "    for obs_field, _ in obs[0].items():\n",
    "        v_th = th.Tensor(np.array([step_obs[obs_field] for step_obs in obs], dtype=np.float32)).to(device)\n",
    "        # in SS1.0, the dcepth observations comes as [B, 128, 128, 1, 1], so fix that\n",
    "        if obs_field == \"depth\" and v_th.dim() == 5:\n",
    "            v_th = v_th.squeeze(-1)\n",
    "        obs_th[obs_field] = v_th\n",
    "        # Special case when doing the rollout, also stores the \n",
    "        if observations is not None:\n",
    "            observations[obs_field][rollout_step] = v_th\n",
    "    \n",
    "    return obs_th\n",
    "\n",
    "obs_list, reward_list, done_list, info_list, action_list = [], [], [], [], []\n",
    "obs_th_list, done_th_list = [], [] \n",
    "\n",
    "rnn_hidden_state = th.zeros((1, args.num_envs, args.hidden_size), device=dev)\n",
    "\n",
    "obs, done = envs.reset(), [False for _ in range(args.num_envs)]\n",
    "done_th = th.Tensor(done).to(dev)\n",
    "masks = 1. - done_th[:, None]\n",
    "\n",
    "while not done_th.sum():\n",
    "    obs_th = tensorize_obs_dict(obs, dev)\n",
    "    done_th = th.Tensor(done).to(dev)\n",
    "    with th.no_grad():\n",
    "        action, action_logprobs, _, value, rnn_hidden_state = \\\n",
    "            ppo_gru_agent.act(obs_th, rnn_hidden_state, masks=masks)\n",
    "    \n",
    "    outputs = envs.step([a[0].item() for a in action])\n",
    "    next_obs, reward, next_done, info = [list(x) for x in zip(*outputs)]\n",
    "\n",
    "    # NOTE obs_list and done_list would have one extra position than info_list\n",
    "    obs_list.append(obs)\n",
    "    done_list.append(done)\n",
    "    obs_th_list.append(obs_th)\n",
    "    done_th_list.append(done_th)\n",
    "\n",
    "    reward_list.append(reward)\n",
    "    info_list.append(info)\n",
    "    action_list.append(action.cpu().numpy())\n",
    "\n",
    "    # Prepare for the next step\n",
    "    obs = next_obs\n",
    "    done = next_done\n",
    "\n",
    "    # DEBUG: producing shorter sequence for downstream tests\n",
    "    if len(obs_list) >= 100:\n",
    "        break\n",
    "\n",
    "len(obs_list) # Episode length"
   ]
  },
  {
   "cell_type": "code",
   "execution_count": 111,
   "metadata": {},
   "outputs": [],
   "source": [
    "# Feed a given trajectory to each agent type, and collect the intermediate features of the network at each step\n",
    "ppo_gru_analysis_feats__raw = {}\n",
    "ppo_pgwt_analysis_feats__raw = {}\n",
    "\n",
    "# Resets the rnn_hidden_states for each agent\n",
    "gru_rnn_hidden_state = th.zeros((1, args.num_envs, args.hidden_size), device=dev)\n",
    "pgwt_rnn_hidden_state = ppo_pgwt_agent.state_encoder.latents.clone()\n",
    "gru_rnn_hidden_state.shape, pgwt_rnn_hidden_state.shape\n",
    "\n",
    "for t, (obs_th, done_th) in enumerate(zip(obs_th_list, done_th_list)):\n",
    "    # Feeding the same sequence of observatiosn to each type of agent\n",
    "    masks = 1. - done_th[:, None]\n",
    "    with th.no_grad():\n",
    "        # NOTE: rnn_hidden_state or pgwt's latent are already collected in \"state_encoder\" field in _features\n",
    "        _, _, _, _, rnn_hidden_state = ppo_gru_agent.act(obs_th, rnn_hidden_state, masks)\n",
    "        _, _, _, _, pgwt_rnn_hidden_state = ppo_pgwt_agent.act(obs_th, pgwt_rnn_hidden_state, masks)\n",
    "\n",
    "\n",
    "    # Collecting intermediate layer results\n",
    "    ## PPO GRU\n",
    "    for k,v in ppo_gru_agent._features.items():\n",
    "        if k not in list(ppo_gru_analysis_feats__raw.keys()):\n",
    "            ppo_gru_analysis_feats__raw[k] = []\n",
    "        ppo_gru_analysis_feats__raw[k].append(v)\n",
    "    \n",
    "    ## PPO PGWT\n",
    "    for k, v in ppo_pgwt_agent._features.items():\n",
    "        if k not in list(ppo_pgwt_analysis_feats__raw.keys()):\n",
    "            ppo_pgwt_analysis_feats__raw[k] = []\n",
    "        ppo_pgwt_analysis_feats__raw[k].append(v)\n",
    "\n",
    "# TODO: additioanl processing to make it nicely organized tensors\n",
    "## NOTE: there are some keys that will have tuple of shape 2 or 3, need to take account for that\n",
    "ppo_gru_analysis_feats = {}\n",
    "ppo_pgwt_analysis_feats = {}\n",
    "\n",
    "def process_analysis_feats_raw(raw_dict):\n",
    "    result_dict = {}\n",
    "\n",
    "    for k, v in raw_dict.items():\n",
    "        if isinstance(v[0], th.Tensor):\n",
    "            new_v = th.cat(v, dim=0)\n",
    "        elif isinstance(v[0], tuple):\n",
    "            new_v = None # TODO\n",
    "            n_elements = len(v[0])\n",
    "            elements = [[] for _ in range(n_elements)]\n",
    "            for j in range(n_elements):\n",
    "                for i in range(len(v)):\n",
    "                    elements[j].append(v[i][j])\n",
    "            \n",
    "            new_v = [th.cat(vv, dim=0) for vv in elements]\n",
    "        else:\n",
    "            raise Exception(f\"Unhandled type: {v[0].__class__}\")\n",
    "    \n",
    "        result_dict[k] = new_v\n",
    "    \n",
    "    return result_dict\n",
    "    \n",
    "ppo_gru_analysis_feats = process_analysis_feats_raw(ppo_gru_analysis_feats__raw)\n",
    "ppo_pgwt_analysis_feats = process_analysis_feats_raw(ppo_pgwt_analysis_feats__raw)"
   ]
  },
  {
   "cell_type": "code",
   "execution_count": 112,
   "metadata": {},
   "outputs": [
    {
     "data": {
      "text/plain": [
       "(torch.Size([32, 31, 31]), torch.Size([32, 31, 31]))"
      ]
     },
     "execution_count": 112,
     "metadata": {},
     "output_type": "execute_result"
    }
   ],
   "source": [
    "list(ppo_gru_analysis_feats.keys())\n",
    "\n",
    "ppo_gru_analysis_feats[\"state_encoder\"][0].shape, ppo_gru_analysis_feats[\"state_encoder\"][1].shape\n",
    "ppo_pgwt_analysis_feats[\"state_encoder\"][0].shape, ppo_pgwt_analysis_feats[\"state_encoder\"][1].shape\n",
    "\n",
    "ppo_gru_analysis_feats[\"state_encoder\"][0].shape, ppo_pgwt_analysis_feats[\"state_encoder\"][0].shape\n",
    "\n",
    "ppo_gru_analysis_feats[\"visual_encoder.cnn.0\"][0].shape, ppo_pgwt_analysis_feats[\"visual_encoder.cnn.0\"][0].shape\n",
    "ppo_gru_analysis_feats[\"visual_encoder.cnn.1\"][0].shape, ppo_pgwt_analysis_feats[\"visual_encoder.cnn.1\"][0].shape\n",
    "# list(ppo_gru_analysis_feats__raw.keys())\n",
    "\n",
    "# len(ppo_gru_analysis_feats__raw[\"state_encoder\"]), len(ppo_gru_analysis_feats__raw[\"state_encoder\"][0])\n",
    "# ppo_gru_analysis_feats[\"critic.fc\"].shape\n",
    "# th.cat(ppo_gru_analysis_feats[\"critic.fc\"], dim=0).shape # [T, ...]\n",
    "\n",
    "# ppo_gru_analysis_feats[\"visual_encoder.cnn.0\"].shape\n",
    "# th.cat(ppo_gru_analysis_feats[\"visual_encoder.cnn.0\"], dim=0).shape # [T, ...]"
   ]
  },
  {
   "cell_type": "code",
   "execution_count": 124,
   "metadata": {},
   "outputs": [
    {
     "data": {
      "text/plain": [
       "((<Figure size 500x500 with 1 Axes>,\n",
       "  array([[<AxesSubplot:>]], dtype=object),\n",
       "  defaultdict(dict,\n",
       "              {<AxesSubplot:>: {'image': <matplotlib.image.AxesImage at 0x7f41352ace80>}})),\n",
       " (<Figure size 500x500 with 1 Axes>,\n",
       "  array([[<AxesSubplot:>]], dtype=object),\n",
       "  defaultdict(dict,\n",
       "              {<AxesSubplot:>: {'image': <matplotlib.image.AxesImage at 0x7f4134951e50>}})))"
      ]
     },
     "execution_count": 124,
     "metadata": {},
     "output_type": "execute_result"
    },
    {
     "data": {
      "image/png": "[encoded data removed]",
      "text/plain": [
       "<Figure size 500x500 with 1 Axes>"
      ]
     },
     "metadata": {},
     "output_type": "display_data"
    },
    {
     "data": {
      "image/png": "[encoded data removed]",
      "text/plain": [
       "<Figure size 500x500 with 1 Axes>"
      ]
     },
     "metadata": {},
     "output_type": "display_data"
    }
   ],
   "source": [
    "# Basic RSA Toolbox usage\n",
    "import rsatoolbox\n",
    "\n",
    "# ppo_gru_data = rsatoolbox.data.Dataset(ppo_gru_analysis_feats[\"visual_encoder.cnn.0\"].flatten(start_dim=1).cpu().numpy())\n",
    "# ppo_pgwt_data = rsatoolbox.data.Dataset(ppo_pgwt_analysis_feats[\"visual_encoder.cnn.0\"].flatten(start_dim=1).cpu().numpy())\n",
    "\n",
    "# ppo_gru_data = rsatoolbox.data.Dataset(ppo_gru_analysis_feats[\"visual_encoder.cnn.7\"].flatten(start_dim=1).cpu().numpy())\n",
    "# ppo_pgwt_data = rsatoolbox.data.Dataset(ppo_pgwt_analysis_feats[\"visual_encoder.cnn.7\"].flatten(start_dim=1).cpu().numpy())\n",
    "\n",
    "# ppo_gru_data = rsatoolbox.data.Dataset(ppo_gru_analysis_feats[\"state_encoder\"][0].flatten(start_dim=1).cpu().numpy())\n",
    "# ppo_pgwt_data = rsatoolbox.data.Dataset(ppo_pgwt_analysis_feats[\"state_encoder\"][0].flatten(start_dim=1).cpu().numpy())\n",
    "\n",
    "# ppo_gru_data = rsatoolbox.data.Dataset(ppo_gru_analysis_feats[\"critic.fc\"].flatten(start_dim=1).cpu().numpy())\n",
    "# ppo_pgwt_data = rsatoolbox.data.Dataset(ppo_pgwt_analysis_feats[\"critic.fc\"].flatten(start_dim=1).cpu().numpy())\n",
    "\n",
    "ppo_gru_data = rsatoolbox.data.Dataset(ppo_gru_analysis_feats[\"action_distribution.linear\"].flatten(start_dim=1).cpu().numpy())\n",
    "ppo_pgwt_data = rsatoolbox.data.Dataset(ppo_pgwt_analysis_feats[\"action_distribution.linear\"].flatten(start_dim=1).cpu().numpy())\n",
    "\n",
    "ppo_gru_rdms = rsatoolbox.rdm.calc_rdm(ppo_gru_data)\n",
    "ppo_pgwt_rdms = rsatoolbox.rdm.calc_rdm(ppo_pgwt_data)\n",
    "\n",
    "rsatoolbox.vis.show_rdm(ppo_gru_rdms, figsize=(5,5)), rsatoolbox.vis.show_rdm(ppo_pgwt_rdms, figsize=(5,5))"
   ]
  },
  {
   "cell_type": "code",
   "execution_count": 16,
   "metadata": {},
   "outputs": [
    {
     "name": "stderr",
     "output_type": "stream",
     "text": [
      "chunk:  19%|█▊        | 2070/11048 [06:59<00:36, 243.28it/s, now=None]"
     ]
    },
    {
     "name": "stdout",
     "output_type": "stream",
     "text": [
      "Moviepy - Building video /tmp/episode_video.mp4.\n",
      "MoviePy - Writing audio in episode_videoTEMP_MPY_wvf_snd.mp3\n"
     ]
    },
    {
     "name": "stderr",
     "output_type": "stream",
     "text": [
      "chunk:  19%|█▊        | 2070/11048 [07:06<00:36, 243.28it/s, now=None]"
     ]
    },
    {
     "name": "stdout",
     "output_type": "stream",
     "text": [
      "MoviePy - Done.\n",
      "Moviepy - Writing video /tmp/episode_video.mp4\n",
      "\n"
     ]
    },
    {
     "name": "stderr",
     "output_type": "stream",
     "text": [
      "chunk:  19%|█▊        | 2070/11048 [07:07<00:36, 243.28it/s, now=None]"
     ]
    },
    {
     "name": "stdout",
     "output_type": "stream",
     "text": [
      "Moviepy - Done !\n",
      "Moviepy - video ready /tmp/episode_video.mp4\n"
     ]
    }
   ],
   "source": [
    "# Generating video with audio from the sampled episode\n",
    "from ss_baselines.common.utils import images_to_video_with_audio, plot_top_down_map\n",
    "\n",
    "video_data = {\n",
    "    \"rgb\": [obs[0][\"rgb\"] for obs in obs_list],\n",
    "    \"audiogoal\": [obs[0][\"audiogoal\"] for obs in obs_list]\n",
    "}\n",
    "video_dir_path = \"/tmp\"\n",
    "video_filename = \"episode_video\"\n",
    "\n",
    "# Save video to file\n",
    "images_to_video_with_audio(\n",
    "    images=video_data[\"rgb\"],\n",
    "    audios=video_data[\"audiogoal\"],\n",
    "    output_dir=video_dir_path,\n",
    "    video_name=video_filename,\n",
    "    sr=env_config.TASK_CONFIG.SIMULATOR.AUDIO.RIR_SAMPLING_RATE, # 16000 for mp3d dataset\n",
    "    fps=1 # Default seems to be 10 though\n",
    ")"
   ]
  },
  {
   "cell_type": "code",
   "execution_count": 5,
   "metadata": {},
   "outputs": [
    {
     "data": {
      "text/plain": [
       "[{'distance_to_goal': 12.0,\n",
       "  'normalized_distance_to_goal': 1.0,\n",
       "  'success': 0.0,\n",
       "  'spl': 0.0,\n",
       "  'softspl': 0.0,\n",
       "  'na': 1,\n",
       "  'sna': 0.0}]"
      ]
     },
     "execution_count": 5,
     "metadata": {},
     "output_type": "execute_result"
    }
   ],
   "source": [
    "from ss_baselines.common.utils import plot_top_down_map\n",
    "\n",
    "info_list[0]\n",
    "# plot_top_down_map(info_list[0])"
   ]
  }
 ],
 "metadata": {
  "kernelspec": {
   "display_name": "Python 3.9.12 ('ss-hab-headless-py39')",
   "language": "python",
   "name": "python3"
  },
  "language_info": {
   "codemirror_mode": {
    "name": "ipython",
    "version": 3
   },
   "file_extension": ".py",
   "mimetype": "text/x-python",
   "name": "python",
   "nbconvert_exporter": "python",
   "pygments_lexer": "ipython3",
   "version": "3.9.12"
  },
  "orig_nbformat": 4,
  "vscode": {
   "interpreter": {
    "hash": "8606c1569764bc263c51958f68bba938f45460ba430fa08f16cdd64c0c2e55c2"
   }
  }
 },
 "nbformat": 4,
 "nbformat_minor": 2
}
