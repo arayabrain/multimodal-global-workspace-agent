{
 "cells": [
  {
   "cell_type": "code",
   "execution_count": 5,
   "metadata": {},
   "outputs": [],
   "source": [
    "import numpy as np\n",
    "import pickle as pkl"
   ]
  },
  {
   "cell_type": "code",
   "execution_count": 6,
   "metadata": {},
   "outputs": [
    {
     "name": "stderr",
     "output_type": "stream",
     "text": [
      "/home/rousslan/anaconda3/envs/ss-hab-headless-py39/lib/python3.9/site-packages/tqdm/auto.py:22: TqdmWarning: IProgress not found. Please update jupyter and ipywidgets. See https://ipywidgets.readthedocs.io/en/stable/user_install.html\n",
      "  from .autonotebook import tqdm as notebook_tqdm\n"
     ]
    }
   ],
   "source": [
    "filename = \"ppo_gru_trajectories_2022_09_21__1500_STEPS/20220921T204641-9de3cd17ae424c0f99d28e910b5d1b2a-98.pkl\"\n",
    "\n",
    "with open(filename, \"rb\") as f:\n",
    "    ep_data_dict = pkl.load(f)"
   ]
  },
  {
   "cell_type": "code",
   "execution_count": 26,
   "metadata": {},
   "outputs": [
    {
     "data": {
      "text/plain": [
       "([{'distance_to_goal': 0.0,\n",
       "   'normalized_distance_to_goal': 0.0,\n",
       "   'success': 0.0,\n",
       "   'spl': 0.0,\n",
       "   'softspl': 0.5451036044702664,\n",
       "   'na': 97,\n",
       "   'sna': 0.0},\n",
       "  {'distance_to_goal': 0.0,\n",
       "   'normalized_distance_to_goal': 0.0,\n",
       "   'success': 1.0,\n",
       "   'spl': 0.5451036044702664,\n",
       "   'softspl': 0.5451036044702664,\n",
       "   'na': 98,\n",
       "   'sna': 0.17346938775510204},\n",
       "  {'distance_to_goal': 11.0,\n",
       "   'normalized_distance_to_goal': 1.0,\n",
       "   'success': 0.0,\n",
       "   'spl': 0.0,\n",
       "   'softspl': 0.0,\n",
       "   'na': 1,\n",
       "   'sna': 0.0}],\n",
       " [False, False, True])"
      ]
     },
     "execution_count": 26,
     "metadata": {},
     "output_type": "execute_result"
    }
   ],
   "source": [
    "len(ep_data_dict[\"info_list\"])\n",
    "ep_data_dict[\"info_list\"][-3:], ep_data_dict[\"done_list\"][-3:]\n",
    "\n",
    "# np.shape(ep_data_dict[\"reward_list\"]), np.sum(ep_data_dict[\"reward_list\"])\n",
    "# np.shape(ep_data_dict[\"reward_list\"]), np.shape(ep_data_dict[\"done_list\"]), np.shape(ep_data_dict[\"obs_list\"][\"rgb\"])"
   ]
  }
 ],
 "metadata": {
  "kernelspec": {
   "display_name": "Python 3.9.12 ('ss-hab-headless-py39')",
   "language": "python",
   "name": "python3"
  },
  "language_info": {
   "codemirror_mode": {
    "name": "ipython",
    "version": 3
   },
   "file_extension": ".py",
   "mimetype": "text/x-python",
   "name": "python",
   "nbconvert_exporter": "python",
   "pygments_lexer": "ipython3",
   "version": "3.9.12"
  },
  "orig_nbformat": 4,
  "vscode": {
   "interpreter": {
    "hash": "8606c1569764bc263c51958f68bba938f45460ba430fa08f16cdd64c0c2e55c2"
   }
  }
 },
 "nbformat": 4,
 "nbformat_minor": 2
}
