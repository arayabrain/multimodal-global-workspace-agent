{
 "cells": [
  {
   "cell_type": "code",
   "execution_count": 1,
   "metadata": {},
   "outputs": [
    {
     "name": "stderr",
     "output_type": "stream",
     "text": [
      "/home/rousslan/anaconda3/envs/ss-hab-headless-py39/lib/python3.9/site-packages/tqdm/auto.py:22: TqdmWarning: IProgress not found. Please update jupyter and ipywidgets. See https://ipywidgets.readthedocs.io/en/stable/user_install.html\n",
      "  from .autonotebook import tqdm as notebook_tqdm\n"
     ]
    }
   ],
   "source": [
    "import torch as th\n",
    "import torch.nn as nn"
   ]
  },
  {
   "cell_type": "code",
   "execution_count": 8,
   "metadata": {},
   "outputs": [
    {
     "data": {
      "text/plain": [
       "torch.Size([1, 3, 116, 116])"
      ]
     },
     "execution_count": 8,
     "metadata": {},
     "output_type": "execute_result"
    }
   ],
   "source": [
    "class ReshapeLayer(nn.Module):\n",
    "    def __init__(self, output_shape):\n",
    "        super().__init__()\n",
    "        self.output_shape = output_shape\n",
    "    \n",
    "    def forward(self, x):\n",
    "        B = x.shape[0]\n",
    "        return x.reshape(B, *self.output_shape)\n",
    "\n",
    "cnn = nn.Sequential(\n",
    "    nn.Linear(512, 64 * 6 * 6),\n",
    "    nn.ReLU(True),\n",
    "    ReshapeLayer([64, 6, 6]),\n",
    "\n",
    "    nn.ConvTranspose2d(\n",
    "        in_channels=64,\n",
    "        out_channels=64,\n",
    "        kernel_size=3,\n",
    "        stride=2,\n",
    "        # output_padding=1\n",
    "    ),\n",
    "    nn.ReLU(True),\n",
    "\n",
    "    nn.ConvTranspose2d(\n",
    "        in_channels=64,\n",
    "        out_channels=32,\n",
    "        kernel_size=4,\n",
    "        stride=2,\n",
    "        # output_padding=1\n",
    "    ),\n",
    "    nn.ReLU(True),\n",
    "\n",
    "    nn.ConvTranspose2d(\n",
    "        in_channels=32,\n",
    "        out_channels=3,\n",
    "        kernel_size=8,\n",
    "        stride=4,\n",
    "        # padding=2\n",
    "    )\n",
    ") ; cnn\n",
    "\n",
    "x = th.zeros([1, 512])\n",
    "\n",
    "decput = cnn(x); decput.shape"
   ]
  },
  {
   "cell_type": "code",
   "execution_count": 47,
   "metadata": {},
   "outputs": [
    {
     "name": "stdout",
     "output_type": "stream",
     "text": [
      "=================================================================\n",
      "Layer (type:depth-idx)                   Param #\n",
      "=================================================================\n",
      "Sequential                               --\n",
      "├─Linear: 1-1                            1,772,928\n",
      "├─ReLU: 1-2                              --\n",
      "├─ReshapeLayer: 1-3                      --\n",
      "├─ConvTranspose2d: 1-4                   55,360\n",
      "├─ReLU: 1-5                              --\n",
      "├─ConvTranspose2d: 1-6                   49,200\n",
      "├─ReLU: 1-7                              --\n",
      "├─ConvTranspose2d: 1-8                   9,219\n",
      "=================================================================\n",
      "Total params: 1,886,707\n",
      "Trainable params: 1,886,707\n",
      "Non-trainable params: 0\n",
      "=================================================================\n"
     ]
    },
    {
     "data": {
      "text/plain": [
       "torch.Size([1, 3, 128, 128])"
      ]
     },
     "execution_count": 47,
     "metadata": {},
     "output_type": "execute_result"
    }
   ],
   "source": [
    "class ReshapeLayer(nn.Module):\n",
    "    def __init__(self, output_shape):\n",
    "        super().__init__()\n",
    "        self.output_shape = output_shape\n",
    "    \n",
    "    def forward(self, x):\n",
    "        B = x.shape[0]\n",
    "        return x.reshape(B, *self.output_shape)\n",
    "\n",
    "cnn = nn.Sequential(\n",
    "    nn.Linear(512, 96 * 6 * 6),\n",
    "    nn.ReLU(True),\n",
    "    ReshapeLayer([96, 6, 6]),\n",
    "\n",
    "    nn.ConvTranspose2d(\n",
    "        in_channels=96,\n",
    "        out_channels=64,\n",
    "        kernel_size=3,\n",
    "        stride=2,\n",
    "        output_padding=1\n",
    "    ),\n",
    "    nn.ReLU(True),\n",
    "\n",
    "    nn.ConvTranspose2d(\n",
    "        in_channels=64,\n",
    "        out_channels=48,\n",
    "        kernel_size=4,\n",
    "        stride=2,\n",
    "        output_padding=1\n",
    "    ),\n",
    "    nn.ReLU(True),\n",
    "\n",
    "    nn.ConvTranspose2d(\n",
    "        in_channels=48,\n",
    "        out_channels=3,\n",
    "        kernel_size=8,\n",
    "        stride=4,\n",
    "        # padding=2\n",
    "    )\n",
    ") ; cnn\n",
    "\n",
    "from torchinfo import summary\n",
    "print(summary(cnn))\n",
    "\n",
    "x = th.zeros([1, 512])\n",
    "\n",
    "decput = cnn(x); decput.shape\n"
   ]
  }
 ],
 "metadata": {
  "kernelspec": {
   "display_name": "ss-hab-headless-py39",
   "language": "python",
   "name": "python3"
  },
  "language_info": {
   "codemirror_mode": {
    "name": "ipython",
    "version": 3
   },
   "file_extension": ".py",
   "mimetype": "text/x-python",
   "name": "python",
   "nbconvert_exporter": "python",
   "pygments_lexer": "ipython3",
   "version": "3.9.12"
  },
  "orig_nbformat": 4
 },
 "nbformat": 4,
 "nbformat_minor": 2
}
