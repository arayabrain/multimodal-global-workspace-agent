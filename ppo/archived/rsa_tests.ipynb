{
 "cells": [
  {
   "cell_type": "code",
   "execution_count": 1,
   "metadata": {},
   "outputs": [],
   "source": [
    "import numpy as np\n",
    "from scipy import io\n",
    "import matplotlib.pyplot as plt\n",
    "import rsatoolbox\n",
    "%matplotlib inline"
   ]
  },
  {
   "cell_type": "code",
   "execution_count": 2,
   "metadata": {},
   "outputs": [],
   "source": [
    "matlab_data = io.matlab.loadmat('rdms_inferring/modelRDMs_A2020.mat')\n",
    "matlab_data = matlab_data['modelRDMs']\n",
    "n_models = len(matlab_data[0])\n",
    "model_names = [matlab_data[0][i][0][0] for i in range(n_models)]\n",
    "measurement_model = [matlab_data[0][i][1][0] for i in range(n_models)]\n",
    "rdms_array = np.array([matlab_data[0][i][3][0] for i in range(n_models)])"
   ]
  },
  {
   "cell_type": "code",
   "execution_count": 4,
   "metadata": {},
   "outputs": [
    {
     "data": {
      "text/plain": [
       "63"
      ]
     },
     "execution_count": 4,
     "metadata": {},
     "output_type": "execute_result"
    }
   ],
   "source": [
    "n_models"
   ]
  },
  {
   "cell_type": "code",
   "execution_count": 6,
   "metadata": {},
   "outputs": [
    {
     "data": {
      "text/plain": [
       "['conv1',\n",
       " 'conv1',\n",
       " 'conv1',\n",
       " 'conv1',\n",
       " 'conv1',\n",
       " 'conv1',\n",
       " 'conv1',\n",
       " 'conv1',\n",
       " 'conv1',\n",
       " 'conv1',\n",
       " 'conv1',\n",
       " 'conv2',\n",
       " 'conv2',\n",
       " 'conv2',\n",
       " 'conv2',\n",
       " 'conv2',\n",
       " 'conv2',\n",
       " 'conv2',\n",
       " 'conv2',\n",
       " 'conv2',\n",
       " 'conv2',\n",
       " 'conv2',\n",
       " 'conv3',\n",
       " 'conv3',\n",
       " 'conv3',\n",
       " 'conv3',\n",
       " 'conv3',\n",
       " 'conv3',\n",
       " 'conv3',\n",
       " 'conv3',\n",
       " 'conv3',\n",
       " 'conv3',\n",
       " 'conv3',\n",
       " 'conv4',\n",
       " 'conv4',\n",
       " 'conv4',\n",
       " 'conv4',\n",
       " 'conv4',\n",
       " 'conv4',\n",
       " 'conv4',\n",
       " 'conv4',\n",
       " 'conv4',\n",
       " 'conv4',\n",
       " 'conv4',\n",
       " 'conv5',\n",
       " 'conv5',\n",
       " 'conv5',\n",
       " 'conv5',\n",
       " 'conv5',\n",
       " 'conv5',\n",
       " 'conv5',\n",
       " 'conv5',\n",
       " 'conv5',\n",
       " 'conv5',\n",
       " 'conv5',\n",
       " 'fc6',\n",
       " 'fc6',\n",
       " 'fc7',\n",
       " 'fc7',\n",
       " 'fc8',\n",
       " 'fc8',\n",
       " 'prob',\n",
       " 'prob']"
      ]
     },
     "execution_count": 6,
     "metadata": {},
     "output_type": "execute_result"
    }
   ],
   "source": [
    "model_names"
   ]
  },
  {
   "cell_type": "code",
   "execution_count": 7,
   "metadata": {},
   "outputs": [
    {
     "data": {
      "text/plain": [
       "['complete',\n",
       " 'smooth1sepFeat',\n",
       " 'smooth1rpwavgFeat',\n",
       " 'smooth2sepFeat',\n",
       " 'smooth2rpwavgFeat',\n",
       " 'smooth3sepFeat',\n",
       " 'smooth3rpwavgFeat',\n",
       " 'smooth4sepFeat',\n",
       " 'smooth4rpwavgFeat',\n",
       " 'smooth5sepFeat',\n",
       " 'smooth5rpwavgFeat',\n",
       " 'complete',\n",
       " 'smooth1sepFeat',\n",
       " 'smooth1rpwavgFeat',\n",
       " 'smooth2sepFeat',\n",
       " 'smooth2rpwavgFeat',\n",
       " 'smooth3sepFeat',\n",
       " 'smooth3rpwavgFeat',\n",
       " 'smooth4sepFeat',\n",
       " 'smooth4rpwavgFeat',\n",
       " 'smooth5sepFeat',\n",
       " 'smooth5rpwavgFeat',\n",
       " 'complete',\n",
       " 'smooth1sepFeat',\n",
       " 'smooth1rpwavgFeat',\n",
       " 'smooth2sepFeat',\n",
       " 'smooth2rpwavgFeat',\n",
       " 'smooth3sepFeat',\n",
       " 'smooth3rpwavgFeat',\n",
       " 'smooth4sepFeat',\n",
       " 'smooth4rpwavgFeat',\n",
       " 'smooth5sepFeat',\n",
       " 'smooth5rpwavgFeat',\n",
       " 'complete',\n",
       " 'smooth1sepFeat',\n",
       " 'smooth1rpwavgFeat',\n",
       " 'smooth2sepFeat',\n",
       " 'smooth2rpwavgFeat',\n",
       " 'smooth3sepFeat',\n",
       " 'smooth3rpwavgFeat',\n",
       " 'smooth4sepFeat',\n",
       " 'smooth4rpwavgFeat',\n",
       " 'smooth5sepFeat',\n",
       " 'smooth5rpwavgFeat',\n",
       " 'complete',\n",
       " 'smooth1sepFeat',\n",
       " 'smooth1rpwavgFeat',\n",
       " 'smooth2sepFeat',\n",
       " 'smooth2rpwavgFeat',\n",
       " 'smooth3sepFeat',\n",
       " 'smooth3rpwavgFeat',\n",
       " 'smooth4sepFeat',\n",
       " 'smooth4rpwavgFeat',\n",
       " 'smooth5sepFeat',\n",
       " 'smooth5rpwavgFeat',\n",
       " 'complete',\n",
       " 'rpwavgFeat',\n",
       " 'complete',\n",
       " 'rpwavgFeat',\n",
       " 'complete',\n",
       " 'rpwavgFeat',\n",
       " 'complete',\n",
       " 'rpwavgFeat']"
      ]
     },
     "execution_count": 7,
     "metadata": {},
     "output_type": "execute_result"
    }
   ],
   "source": [
    "measurement_model"
   ]
  }
 ],
 "metadata": {
  "kernelspec": {
   "display_name": "ss-hab-headless-py39",
   "language": "python",
   "name": "python3"
  },
  "language_info": {
   "codemirror_mode": {
    "name": "ipython",
    "version": 3
   },
   "file_extension": ".py",
   "mimetype": "text/x-python",
   "name": "python",
   "nbconvert_exporter": "python",
   "pygments_lexer": "ipython3",
   "version": "3.9.12"
  },
  "orig_nbformat": 4
 },
 "nbformat": 4,
 "nbformat_minor": 2
}
