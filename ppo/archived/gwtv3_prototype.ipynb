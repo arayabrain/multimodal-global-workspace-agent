{
 "cells": [
  {
   "cell_type": "code",
   "execution_count": 1,
   "metadata": {},
   "outputs": [
    {
     "name": "stderr",
     "output_type": "stream",
     "text": [
      "/home/rousslan/anaconda3/envs/ss-hab-headless-py39/lib/python3.9/site-packages/tqdm/auto.py:22: TqdmWarning: IProgress not found. Please update jupyter and ipywidgets. See https://ipywidgets.readthedocs.io/en/stable/user_install.html\n",
      "  from .autonotebook import tqdm as notebook_tqdm\n"
     ]
    }
   ],
   "source": [
    "import random\n",
    "import numpy as np\n",
    "\n",
    "import torch as th\n",
    "import torch.nn as nn\n",
    "import torch.nn.functional as F\n",
    "\n",
    "from typing import Callable\n",
    "\n",
    "# Seeding\n",
    "# random.seed(args.seed)\n",
    "# np.random.seed(args.seed)\n",
    "# th.manual_seed(args.seed)\n",
    "# th.cuda.manual_seed_all(args.seed)\n",
    "# th.backends.cudnn.deterministic = args.torch_deterministic\n",
    "# th.backends.cudnn.benchmark = args.cudnn_benchmark\n",
    "\n",
    "# Otherwise, just use dummy obs. and act. spaces for agent structure init\n",
    "from gym import spaces\n",
    "single_action_space = spaces.Discrete(4)\n",
    "single_observation_space = spaces.Dict({\n",
    "    # \"rgb\": spaces.Box(shape=[128,128,3], low=0, high=255, dtype=np.uint8),\n",
    "    # \"depth\": spaces.Box(shape=[128,128,1], low=0, high=255, dtype=np.uint8),\n",
    "    \"audiogoal\": spaces.Box(shape=[2,16000], low=-3.4028235e+38, high=3.4028235e+38, dtype=np.float32),\n",
    "    \"spectrogram\": spaces.Box(shape=[65,26,2], low=-3.4028235e+38, high=3.4028235e+38, dtype=np.float32),\n",
    "    \"pose\": spaces.Box(shape=[4], low=-3.4028235e+38, high=3.4028235e+38, dtype=np.float32)\n",
    "})\n",
    "single_observation_space[\"rgb\"] = spaces.Box(shape=[128,128,3], low=0, high=255, dtype=np.uint8)"
   ]
  },
  {
   "cell_type": "code",
   "execution_count": 2,
   "metadata": {},
   "outputs": [],
   "source": [
    "\n",
    "\n",
    "# region: testing\n",
    "# from torchinfo import summary\n",
    "# modality_features = {\n",
    "#     \"visual\": th.randn([5, 1, 512]),\n",
    "#     \"audio\": th.randn([5, 1, 512])\n",
    "# }\n",
    "# prev_gw = th.randn([5, 512])\n",
    "# masks = th.randint(low=0, high=2, size=[5, 1])\n",
    "\n",
    "# ca = CrossAttention(q_size=512, kv_size=512, n_heads=4)\n",
    "\n",
    "# # attn_value, attn_weights = ca(modality_features, prev_gw)\n",
    "# # attn_value.shape, attn_weights.shape\n",
    "# # print(q.shape, k.shape, v.shape)\n",
    "\n",
    "# state_encoder = GWTv3StateEncoder(\n",
    "#     input_size=512 * 2,\n",
    "#     hidden_size=512,\n",
    "#     ca_q_size=512,\n",
    "#     ca_kv_size=512,\n",
    "#     ca_n_heads=1,\n",
    "#     ca_use_null=True\n",
    "# )\n",
    "# summary(state_encoder)\n",
    "# h = state_encoder(\n",
    "#     modality_features,\n",
    "#     prev_gw,\n",
    "#     masks\n",
    "# )\n",
    "# h.shape\n",
    "# import math\n",
    "# scores = q @ k.permute(0, 2, 1) / math.sqrt(ca.h_size)\n",
    "\n",
    "# sftmx = F.softmax(qk, dim=-1); sftmx.shape\n",
    "# print(ca)\n",
    "# from torchinfo import summary\n",
    "# summary(ca)\n",
    "# endregion: testing"
   ]
  },
  {
   "cell_type": "code",
   "execution_count": 3,
   "metadata": {},
   "outputs": [
    {
     "ename": "NameError",
     "evalue": "name 'CategoricalNet' is not defined",
     "output_type": "error",
     "traceback": [
      "\u001b[0;31m---------------------------------------------------------------------------\u001b[0m",
      "\u001b[0;31mNameError\u001b[0m                                 Traceback (most recent call last)",
      "\u001b[1;32m/home/rousslan/random/rl/ss-hab/ppo/gwtv3_prototype.ipynb Cell 3\u001b[0m line \u001b[0;36m<cell line: 146>\u001b[0;34m()\u001b[0m\n\u001b[1;32m    <a href='vscode-notebook-cell://ssh-remote%2Bmusashi/home/rousslan/random/rl/ss-hab/ppo/gwtv3_prototype.ipynb#W2sdnNjb2RlLXJlbW90ZQ%3D%3D?line=142'>143</a>\u001b[0m             \u001b[39mself\u001b[39m\u001b[39m.\u001b[39m_features[layer_id] \u001b[39m=\u001b[39m output\n\u001b[1;32m    <a href='vscode-notebook-cell://ssh-remote%2Bmusashi/home/rousslan/random/rl/ss-hab/ppo/gwtv3_prototype.ipynb#W2sdnNjb2RlLXJlbW90ZQ%3D%3D?line=143'>144</a>\u001b[0m         \u001b[39mreturn\u001b[39;00m fn\n\u001b[0;32m--> <a href='vscode-notebook-cell://ssh-remote%2Bmusashi/home/rousslan/random/rl/ss-hab/ppo/gwtv3_prototype.ipynb#W2sdnNjb2RlLXJlbW90ZQ%3D%3D?line=145'>146</a>\u001b[0m agent \u001b[39m=\u001b[39m GWTv3ActorCritic(\n\u001b[1;32m    <a href='vscode-notebook-cell://ssh-remote%2Bmusashi/home/rousslan/random/rl/ss-hab/ppo/gwtv3_prototype.ipynb#W2sdnNjb2RlLXJlbW90ZQ%3D%3D?line=146'>147</a>\u001b[0m     single_observation_space,\n\u001b[1;32m    <a href='vscode-notebook-cell://ssh-remote%2Bmusashi/home/rousslan/random/rl/ss-hab/ppo/gwtv3_prototype.ipynb#W2sdnNjb2RlLXJlbW90ZQ%3D%3D?line=147'>148</a>\u001b[0m     single_action_space,\n\u001b[1;32m    <a href='vscode-notebook-cell://ssh-remote%2Bmusashi/home/rousslan/random/rl/ss-hab/ppo/gwtv3_prototype.ipynb#W2sdnNjb2RlLXJlbW90ZQ%3D%3D?line=148'>149</a>\u001b[0m     {}\n\u001b[1;32m    <a href='vscode-notebook-cell://ssh-remote%2Bmusashi/home/rousslan/random/rl/ss-hab/ppo/gwtv3_prototype.ipynb#W2sdnNjb2RlLXJlbW90ZQ%3D%3D?line=149'>150</a>\u001b[0m )\n\u001b[1;32m    <a href='vscode-notebook-cell://ssh-remote%2Bmusashi/home/rousslan/random/rl/ss-hab/ppo/gwtv3_prototype.ipynb#W2sdnNjb2RlLXJlbW90ZQ%3D%3D?line=151'>152</a>\u001b[0m observations \u001b[39m=\u001b[39m {\n\u001b[1;32m    <a href='vscode-notebook-cell://ssh-remote%2Bmusashi/home/rousslan/random/rl/ss-hab/ppo/gwtv3_prototype.ipynb#W2sdnNjb2RlLXJlbW90ZQ%3D%3D?line=152'>153</a>\u001b[0m     \u001b[39m\"\u001b[39m\u001b[39mrgb\u001b[39m\u001b[39m\"\u001b[39m: th\u001b[39m.\u001b[39mrandn([\u001b[39m5\u001b[39m, \u001b[39m128\u001b[39m, \u001b[39m128\u001b[39m, \u001b[39m3\u001b[39m]),\n\u001b[1;32m    <a href='vscode-notebook-cell://ssh-remote%2Bmusashi/home/rousslan/random/rl/ss-hab/ppo/gwtv3_prototype.ipynb#W2sdnNjb2RlLXJlbW90ZQ%3D%3D?line=153'>154</a>\u001b[0m     \u001b[39m\"\u001b[39m\u001b[39mspectrogram\u001b[39m\u001b[39m\"\u001b[39m: th\u001b[39m.\u001b[39mrandn([\u001b[39m5\u001b[39m, \u001b[39m65\u001b[39m, \u001b[39m26\u001b[39m, \u001b[39m2\u001b[39m])\n\u001b[1;32m    <a href='vscode-notebook-cell://ssh-remote%2Bmusashi/home/rousslan/random/rl/ss-hab/ppo/gwtv3_prototype.ipynb#W2sdnNjb2RlLXJlbW90ZQ%3D%3D?line=154'>155</a>\u001b[0m }\n\u001b[1;32m    <a href='vscode-notebook-cell://ssh-remote%2Bmusashi/home/rousslan/random/rl/ss-hab/ppo/gwtv3_prototype.ipynb#W2sdnNjb2RlLXJlbW90ZQ%3D%3D?line=155'>156</a>\u001b[0m prev_gw \u001b[39m=\u001b[39m th\u001b[39m.\u001b[39mrandn([\u001b[39m5\u001b[39m, \u001b[39m512\u001b[39m])\n",
      "\u001b[1;32m/home/rousslan/random/rl/ss-hab/ppo/gwtv3_prototype.ipynb Cell 3\u001b[0m line \u001b[0;36mGWTv3ActorCritic.__init__\u001b[0;34m(self, observation_space, action_space, config, extra_rgb, analysis_layers)\u001b[0m\n\u001b[1;32m     <a href='vscode-notebook-cell://ssh-remote%2Bmusashi/home/rousslan/random/rl/ss-hab/ppo/gwtv3_prototype.ipynb#W2sdnNjb2RlLXJlbW90ZQ%3D%3D?line=23'>24</a>\u001b[0m \u001b[39mself\u001b[39m\u001b[39m.\u001b[39maudio_encoder \u001b[39m=\u001b[39m RecurrentAudioEncoder(\n\u001b[1;32m     <a href='vscode-notebook-cell://ssh-remote%2Bmusashi/home/rousslan/random/rl/ss-hab/ppo/gwtv3_prototype.ipynb#W2sdnNjb2RlLXJlbW90ZQ%3D%3D?line=24'>25</a>\u001b[0m     observation_space,\n\u001b[1;32m     <a href='vscode-notebook-cell://ssh-remote%2Bmusashi/home/rousslan/random/rl/ss-hab/ppo/gwtv3_prototype.ipynb#W2sdnNjb2RlLXJlbW90ZQ%3D%3D?line=25'>26</a>\u001b[0m     \u001b[39m512\u001b[39m, \u001b[39m# config.hidden_size,\u001b[39;00m\n\u001b[1;32m     <a href='vscode-notebook-cell://ssh-remote%2Bmusashi/home/rousslan/random/rl/ss-hab/ppo/gwtv3_prototype.ipynb#W2sdnNjb2RlLXJlbW90ZQ%3D%3D?line=26'>27</a>\u001b[0m     \u001b[39m\"\u001b[39m\u001b[39mspectrogram\u001b[39m\u001b[39m\"\u001b[39m,\n\u001b[1;32m     <a href='vscode-notebook-cell://ssh-remote%2Bmusashi/home/rousslan/random/rl/ss-hab/ppo/gwtv3_prototype.ipynb#W2sdnNjb2RlLXJlbW90ZQ%3D%3D?line=27'>28</a>\u001b[0m     use_gw\u001b[39m=\u001b[39m\u001b[39mTrue\u001b[39;00m \u001b[39m# config.gwtv3_use_gw\u001b[39;00m\n\u001b[1;32m     <a href='vscode-notebook-cell://ssh-remote%2Bmusashi/home/rousslan/random/rl/ss-hab/ppo/gwtv3_prototype.ipynb#W2sdnNjb2RlLXJlbW90ZQ%3D%3D?line=28'>29</a>\u001b[0m )\n\u001b[1;32m     <a href='vscode-notebook-cell://ssh-remote%2Bmusashi/home/rousslan/random/rl/ss-hab/ppo/gwtv3_prototype.ipynb#W2sdnNjb2RlLXJlbW90ZQ%3D%3D?line=30'>31</a>\u001b[0m \u001b[39mself\u001b[39m\u001b[39m.\u001b[39mstate_encoder \u001b[39m=\u001b[39m GWTv3StateEncoder(\n\u001b[1;32m     <a href='vscode-notebook-cell://ssh-remote%2Bmusashi/home/rousslan/random/rl/ss-hab/ppo/gwtv3_prototype.ipynb#W2sdnNjb2RlLXJlbW90ZQ%3D%3D?line=31'>32</a>\u001b[0m     input_size\u001b[39m=\u001b[39m\u001b[39m512\u001b[39m \u001b[39m*\u001b[39m \u001b[39m2\u001b[39m, \u001b[39m# config.hidden_size * 2,\u001b[39;00m\n\u001b[1;32m     <a href='vscode-notebook-cell://ssh-remote%2Bmusashi/home/rousslan/random/rl/ss-hab/ppo/gwtv3_prototype.ipynb#W2sdnNjb2RlLXJlbW90ZQ%3D%3D?line=32'>33</a>\u001b[0m     hidden_size\u001b[39m=\u001b[39m\u001b[39m512\u001b[39m, \u001b[39m# config.hidden_size,\u001b[39;00m\n\u001b[0;32m   (...)\u001b[0m\n\u001b[1;32m     <a href='vscode-notebook-cell://ssh-remote%2Bmusashi/home/rousslan/random/rl/ss-hab/ppo/gwtv3_prototype.ipynb#W2sdnNjb2RlLXJlbW90ZQ%3D%3D?line=36'>37</a>\u001b[0m     ca_use_null\u001b[39m=\u001b[39m\u001b[39mTrue\u001b[39;00m, \u001b[39m# config.gwtv3_use_null\u001b[39;00m\n\u001b[1;32m     <a href='vscode-notebook-cell://ssh-remote%2Bmusashi/home/rousslan/random/rl/ss-hab/ppo/gwtv3_prototype.ipynb#W2sdnNjb2RlLXJlbW90ZQ%3D%3D?line=37'>38</a>\u001b[0m )\n\u001b[0;32m---> <a href='vscode-notebook-cell://ssh-remote%2Bmusashi/home/rousslan/random/rl/ss-hab/ppo/gwtv3_prototype.ipynb#W2sdnNjb2RlLXJlbW90ZQ%3D%3D?line=39'>40</a>\u001b[0m \u001b[39mself\u001b[39m\u001b[39m.\u001b[39maction_distribution \u001b[39m=\u001b[39m CategoricalNet(config\u001b[39m.\u001b[39mhidden_size, action_space\u001b[39m.\u001b[39mn) \u001b[39m# Policy fn\u001b[39;00m\n\u001b[1;32m     <a href='vscode-notebook-cell://ssh-remote%2Bmusashi/home/rousslan/random/rl/ss-hab/ppo/gwtv3_prototype.ipynb#W2sdnNjb2RlLXJlbW90ZQ%3D%3D?line=40'>41</a>\u001b[0m \u001b[39mself\u001b[39m\u001b[39m.\u001b[39mcritic \u001b[39m=\u001b[39m CriticHead(config\u001b[39m.\u001b[39mhidden_size) \u001b[39m# Value fn\u001b[39;00m\n\u001b[1;32m     <a href='vscode-notebook-cell://ssh-remote%2Bmusashi/home/rousslan/random/rl/ss-hab/ppo/gwtv3_prototype.ipynb#W2sdnNjb2RlLXJlbW90ZQ%3D%3D?line=42'>43</a>\u001b[0m \u001b[39mself\u001b[39m\u001b[39m.\u001b[39mtrain()\n",
      "\u001b[0;31mNameError\u001b[0m: name 'CategoricalNet' is not defined"
     ]
    }
   ],
   "source": [
    "from models3 import RecurrentVisualEncoder, RecurrentAudioEncoder\n",
    "\n",
    "\n",
    "\n",
    "\n",
    "agent = GWTv3ActorCritic(\n",
    "    single_observation_space,\n",
    "    single_action_space,\n",
    "    {}\n",
    ")\n",
    "\n",
    "observations = {\n",
    "    \"rgb\": th.randn([5, 128, 128, 3]),\n",
    "    \"spectrogram\": th.randn([5, 65, 26, 2])\n",
    "}\n",
    "prev_gw = th.randn([5, 512])\n",
    "prev_modality_features = {\n",
    "    \"visual\": th.randn([5, 512]),\n",
    "    \"audio\": th.randn([5, 512])\n",
    "}\n",
    "masks = th.randint(0, 2, [5, 1])\n",
    "\n",
    "gw, modality_features = \\\n",
    "    agent(observations, prev_gw, masks, prev_modality_features)\n",
    "\n",
    "actions = agent(observations, prev_gw, masks, prev_modality_features)"
   ]
  },
  {
   "cell_type": "code",
   "execution_count": 18,
   "metadata": {},
   "outputs": [
    {
     "data": {
      "text/plain": [
       "(torch.Size([5, 512]), [torch.Size([5, 512]), torch.Size([5, 512])])"
      ]
     },
     "execution_count": 18,
     "metadata": {},
     "output_type": "execute_result"
    }
   ],
   "source": [
    "gw.shape, [v.shape for v in modality_features.values()]"
   ]
  },
  {
   "cell_type": "code",
   "execution_count": 4,
   "metadata": {},
   "outputs": [
    {
     "data": {
      "text/plain": [
       "(torch.Size([5, 512]), torch.Size([5, 512]))"
      ]
     },
     "execution_count": 4,
     "metadata": {},
     "output_type": "execute_result"
    }
   ],
   "source": [
    "visual_features.shape, audio_features.shape"
   ]
  }
 ],
 "metadata": {
  "kernelspec": {
   "display_name": "ss-hab-headless-py39",
   "language": "python",
   "name": "python3"
  },
  "language_info": {
   "codemirror_mode": {
    "name": "ipython",
    "version": 3
   },
   "file_extension": ".py",
   "mimetype": "text/x-python",
   "name": "python",
   "nbconvert_exporter": "python",
   "pygments_lexer": "ipython3",
   "version": "3.9.12"
  }
 },
 "nbformat": 4,
 "nbformat_minor": 2
}
