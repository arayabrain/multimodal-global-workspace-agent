{
 "cells": [
  {
   "cell_type": "code",
   "execution_count": 1,
   "metadata": {},
   "outputs": [
    {
     "name": "stderr",
     "output_type": "stream",
     "text": [
      "/home/rousslan/anaconda3/envs/ss-hab-headless-py39/lib/python3.9/site-packages/tqdm/auto.py:22: TqdmWarning: IProgress not found. Please update jupyter and ipywidgets. See https://ipywidgets.readthedocs.io/en/stable/user_install.html\n",
      "  from .autonotebook import tqdm as notebook_tqdm\n"
     ]
    }
   ],
   "source": [
    "import torch as th\n",
    "import torch.nn as nn\n",
    "from torchinfo import summary"
   ]
  },
  {
   "cell_type": "code",
   "execution_count": 2,
   "metadata": {},
   "outputs": [
    {
     "name": "stdout",
     "output_type": "stream",
     "text": [
      "Sequential(\n",
      "  (0): Conv2d(3, 16, kernel_size=(3, 3), stride=(2, 2))\n",
      "  (1): ReLU(inplace=True)\n",
      "  (2): Conv2d(16, 32, kernel_size=(3, 3), stride=(2, 2))\n",
      "  (3): ReLU(inplace=True)\n",
      "  (4): Conv2d(32, 64, kernel_size=(4, 4), stride=(2, 2))\n",
      "  (5): ReLU(inplace=True)\n",
      "  (6): Conv2d(64, 128, kernel_size=(4, 4), stride=(2, 2))\n",
      "  (7): Flatten(start_dim=1, end_dim=-1)\n",
      "  (8): Linear(in_features=4608, out_features=512, bias=True)\n",
      "  (9): ReLU(inplace=True)\n",
      ")\n",
      "=================================================================\n",
      "Layer (type:depth-idx)                   Param #\n",
      "=================================================================\n",
      "Sequential                               --\n",
      "├─Conv2d: 1-1                            448\n",
      "├─ReLU: 1-2                              --\n",
      "├─Conv2d: 1-3                            4,640\n",
      "├─ReLU: 1-4                              --\n",
      "├─Conv2d: 1-5                            32,832\n",
      "├─ReLU: 1-6                              --\n",
      "├─Conv2d: 1-7                            131,200\n",
      "├─Flatten: 1-8                           --\n",
      "├─Linear: 1-9                            2,359,808\n",
      "├─ReLU: 1-10                             --\n",
      "=================================================================\n",
      "Total params: 2,528,928\n",
      "Trainable params: 2,528,928\n",
      "Non-trainable params: 0\n",
      "=================================================================\n"
     ]
    },
    {
     "data": {
      "text/plain": [
       "torch.Size([1, 512])"
      ]
     },
     "execution_count": 2,
     "metadata": {},
     "output_type": "execute_result"
    }
   ],
   "source": [
    "encoder = nn.Sequential(\n",
    "    nn.Conv2d(\n",
    "        in_channels=3,\n",
    "        out_channels=16,\n",
    "        kernel_size=3,\n",
    "        stride=2\n",
    "    ),\n",
    "    nn.ReLU(True),\n",
    "\n",
    "    nn.Conv2d(\n",
    "        in_channels=16,\n",
    "        out_channels=32,\n",
    "        kernel_size=3,\n",
    "        stride=2\n",
    "    ),\n",
    "    nn.ReLU(True),\n",
    "\n",
    "    nn.Conv2d(\n",
    "        in_channels=32,\n",
    "        out_channels=64,\n",
    "        kernel_size=4,\n",
    "        stride=2\n",
    "    ),\n",
    "    nn.ReLU(True),\n",
    "\n",
    "    nn.Conv2d(\n",
    "        in_channels=64,\n",
    "        out_channels=128,\n",
    "        kernel_size=4,\n",
    "        stride=2\n",
    "    ),\n",
    "\n",
    "    nn.Flatten(),\n",
    "    nn.Linear(128 * 6 * 6, 512),\n",
    "    nn.ReLU(True)\n",
    "\n",
    ") ; encoder\n",
    "print(encoder)\n",
    "print(summary(encoder))\n",
    "\n",
    "x = th.zeros(1, 3, 128, 128)\n",
    "\n",
    "encoder(x).shape"
   ]
  },
  {
   "cell_type": "code",
   "execution_count": 3,
   "metadata": {},
   "outputs": [
    {
     "name": "stdout",
     "output_type": "stream",
     "text": [
      "Sequential(\n",
      "  (0): Linear(in_features=1024, out_features=2304, bias=True)\n",
      "  (1): ReLU(inplace=True)\n",
      "  (2): ReshapeLayer()\n",
      "  (3): ConvTranspose2d(64, 64, kernel_size=(3, 3), stride=(2, 2), output_padding=(1, 1))\n",
      "  (4): ReLU(inplace=True)\n",
      "  (5): ConvTranspose2d(64, 32, kernel_size=(4, 4), stride=(2, 2), output_padding=(1, 1))\n",
      "  (6): ReLU(inplace=True)\n",
      "  (7): ConvTranspose2d(32, 3, kernel_size=(4, 4), stride=(2, 2))\n",
      ")\n",
      "=================================================================\n",
      "Layer (type:depth-idx)                   Param #\n",
      "=================================================================\n",
      "Sequential                               --\n",
      "├─Linear: 1-1                            2,361,600\n",
      "├─ReLU: 1-2                              --\n",
      "├─ReshapeLayer: 1-3                      --\n",
      "├─ConvTranspose2d: 1-4                   36,928\n",
      "├─ReLU: 1-5                              --\n",
      "├─ConvTranspose2d: 1-6                   32,800\n",
      "├─ReLU: 1-7                              --\n",
      "├─ConvTranspose2d: 1-8                   1,539\n",
      "=================================================================\n",
      "Total params: 2,432,867\n",
      "Trainable params: 2,432,867\n",
      "Non-trainable params: 0\n",
      "=================================================================\n"
     ]
    },
    {
     "data": {
      "text/plain": [
       "torch.Size([1, 3, 64, 64])"
      ]
     },
     "execution_count": 3,
     "metadata": {},
     "output_type": "execute_result"
    }
   ],
   "source": [
    "class ReshapeLayer(nn.Module):\n",
    "    def __init__(self, output_shape):\n",
    "        super().__init__()\n",
    "        self.output_shape = output_shape\n",
    "    \n",
    "    def forward(self, x):\n",
    "        B = x.shape[0]\n",
    "        return x.reshape(B, *self.output_shape)\n",
    "\n",
    "decoder = nn.Sequential(\n",
    "    nn.Linear(1024, 64 * 6 * 6),\n",
    "    nn.ReLU(True),\n",
    "    ReshapeLayer([64, 6, 6]),\n",
    "\n",
    "    nn.ConvTranspose2d(\n",
    "        in_channels=64,\n",
    "        out_channels=64,\n",
    "        kernel_size=3,\n",
    "        stride=2,\n",
    "        output_padding=1\n",
    "    ),\n",
    "    nn.ReLU(True),\n",
    "\n",
    "    nn.ConvTranspose2d(\n",
    "        in_channels=64,\n",
    "        out_channels=32,\n",
    "        kernel_size=4,\n",
    "        stride=2,\n",
    "        output_padding=1\n",
    "    ),\n",
    "    nn.ReLU(True),\n",
    "\n",
    "    nn.ConvTranspose2d(\n",
    "        in_channels=32,\n",
    "        out_channels=3,\n",
    "        kernel_size=4,\n",
    "        stride=2\n",
    "    )\n",
    ") ; decoder\n",
    "print(decoder)\n",
    "print(summary(decoder))\n",
    "\n",
    "x = th.zeros([1, 1024])\n",
    "\n",
    "decoder(x).shape"
   ]
  },
  {
   "cell_type": "markdown",
   "metadata": {},
   "source": [
    "## AE with a larger latent that is used for reconstruction, while 512 is still passsed to the RNN"
   ]
  },
  {
   "cell_type": "code",
   "execution_count": null,
   "metadata": {},
   "outputs": [],
   "source": []
  }
 ],
 "metadata": {
  "kernelspec": {
   "display_name": "ss-hab-headless-py39",
   "language": "python",
   "name": "python3"
  },
  "language_info": {
   "codemirror_mode": {
    "name": "ipython",
    "version": 3
   },
   "file_extension": ".py",
   "mimetype": "text/x-python",
   "name": "python",
   "nbconvert_exporter": "python",
   "pygments_lexer": "ipython3",
   "version": "3.9.12"
  },
  "orig_nbformat": 4
 },
 "nbformat": 4,
 "nbformat_minor": 2
}
