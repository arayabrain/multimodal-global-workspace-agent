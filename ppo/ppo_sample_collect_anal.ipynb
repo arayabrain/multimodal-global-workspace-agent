{
 "cells": [
  {
   "cell_type": "code",
   "execution_count": 82,
   "metadata": {},
   "outputs": [],
   "source": [
    "import random\n",
    "import numpy as np\n",
    "import matplotlib.pyplot as plt\n",
    "%matplotlib inline\n",
    "\n",
    "import torch\n",
    "import torch as th\n",
    "import torch.nn as nn\n",
    "from torch import Tensor"
   ]
  },
  {
   "cell_type": "code",
   "execution_count": 2,
   "metadata": {},
   "outputs": [],
   "source": [
    "# Notebook support or argpase\n",
    "import sys; sys.argv=['']; del sys\n",
    "\n",
    "# General config related\n",
    "from configurator import get_arg_dict, generate_args\n",
    "\n",
    "# Env config related\n",
    "from ss_baselines.av_nav.config import get_config\n",
    "from ss_baselines.savi.config.default import get_config as get_savi_config\n",
    "from ss_baselines.common.env_utils import construct_envs\n",
    "from ss_baselines.common.environments import get_env_class\n",
    "\n",
    "# region: Generating additional hyparams\n",
    "CUSTOM_ARGS = [\n",
    "    # General hyper parameters\n",
    "    get_arg_dict(\"seed\", int, 111),\n",
    "    get_arg_dict(\"total-steps\", int, 1_000_000),\n",
    "\n",
    "    # SS env config\n",
    "    get_arg_dict(\"config-path\", str, \"env_configs/audiogoal_rgb_nocont.yaml\"),\n",
    "\n",
    "    # PPO Hyper parameters\n",
    "    get_arg_dict(\"num-envs\", int, 1), # Number of parallel envs. 10 by default\n",
    "    get_arg_dict(\"num-steps\", int, 150), # For each env, how many steps are collected to form PPO Agent rollout.\n",
    "    get_arg_dict(\"num-minibatches\", int, 1), # Number of mini-batches the rollout data is split into to make the updates\n",
    "    get_arg_dict(\"update-epochs\", int, 4), # Number of gradient step for the policy and value networks\n",
    "    get_arg_dict(\"gamma\", float, 0.99),\n",
    "    get_arg_dict(\"gae-lambda\", float, 0.95),\n",
    "    get_arg_dict(\"norm-adv\", bool, True, metatype=\"bool\"),\n",
    "    get_arg_dict(\"clip-coef\", float, 0.1), # Surrogate loss clipping coefficient\n",
    "    get_arg_dict(\"clip-vloss\", bool, True, metatype=\"bool\"),\n",
    "    get_arg_dict(\"ent-coef\", float, 0.2), # Entropy loss coef; 0.2 in SS baselines\n",
    "    get_arg_dict(\"vf-coef\", float, 0.5), # Value loss coefficient\n",
    "    get_arg_dict(\"max-grad-norm\", float, 0.5),\n",
    "    get_arg_dict(\"target-kl\", float, None),\n",
    "    get_arg_dict(\"lr\", float, 2.5e-4), # Learning rate\n",
    "    get_arg_dict(\"optim-wd\", float, 0), # weight decay for adam optim\n",
    "    ## Agent network params\n",
    "    get_arg_dict(\"agent-type\", str, \"ss-default\", metatype=\"choice\",\n",
    "        choices=[\"ss-default\", \"deep-etho\",\n",
    "                    \"perceiver-gwt-gwwm\", \"perceiver-gwt-attgru\"]),\n",
    "    get_arg_dict(\"hidden-size\", int, 512), # Size of the visual / audio features and RNN hidden states \n",
    "    ## Perceiver / PerceiverIO params: TODO: num_latnets, latent_dim, etc...\n",
    "    get_arg_dict(\"pgwt-latent-type\", str, \"randn\", metatype=\"choice\",\n",
    "        choices=[\"randn\", \"zeros\"]), # Depth of the Perceiver\n",
    "    get_arg_dict(\"pgwt-latent-learned\", bool, True, metatype=\"bool\"),\n",
    "    get_arg_dict(\"pgwt-depth\", int, 1), # Depth of the Perceiver\n",
    "    get_arg_dict(\"pgwt-num-latents\", int, 8),\n",
    "    get_arg_dict(\"pgwt-latent-dim\", int, 64),\n",
    "    get_arg_dict(\"pgwt-cross-heads\", int, 1),\n",
    "    get_arg_dict(\"pgwt-latent-heads\", int, 4),\n",
    "    get_arg_dict(\"pgwt-cross-dim-head\", int, 64),\n",
    "    get_arg_dict(\"pgwt-latent-dim-head\", int, 64),\n",
    "    get_arg_dict(\"pgwt-weight-tie-layers\", bool, False, metatype=\"bool\"),\n",
    "    get_arg_dict(\"pgwt-ff\", bool, False, metatype=\"bool\"),\n",
    "    get_arg_dict(\"pgwt-num-freq-bands\", int, 6),\n",
    "    get_arg_dict(\"pgwt-max-freq\", int, 10.),\n",
    "    get_arg_dict(\"pgwt-use-sa\", bool, False, metatype=\"bool\"),\n",
    "    ## Peceiver Modality Embedding related\n",
    "    get_arg_dict(\"pgwt-mod-embed\", int, 0), # Learnable modality embeddings\n",
    "    ## Additional modalities\n",
    "    get_arg_dict(\"pgwt-ca-prev-latents\", bool, True, metatype=\"bool\"), # if True, passes the prev latent to CA as KV input data\n",
    "\n",
    "    # Logging params\n",
    "    # NOTE: While supported, video logging is expensive because the RGB generation in the\n",
    "    # envs hogs a lot of GPU, especially with multiple envs \n",
    "    get_arg_dict(\"save-videos\", bool, False, metatype=\"bool\"),\n",
    "    get_arg_dict(\"save-model\", bool, True, metatype=\"bool\"),\n",
    "    get_arg_dict(\"log-sampling-stats-every\", int, int(1.5e3)), # Every X frames || steps sampled\n",
    "    get_arg_dict(\"log-training-stats-every\", int, int(10)), # Every X model update\n",
    "    get_arg_dict(\"logdir-prefix\", str, \"./logs/\") # Overrides the default one\n",
    "]\n",
    "args = generate_args(CUSTOM_ARGS)\n",
    "\n",
    "# Additional PPO overrides\n",
    "args.batch_size = int(args.num_envs * args.num_steps)\n",
    "args.minibatch_size = int(args.batch_size // args.num_minibatches)\n"
   ]
  },
  {
   "cell_type": "code",
   "execution_count": 3,
   "metadata": {},
   "outputs": [
    {
     "name": "stderr",
     "output_type": "stream",
     "text": [
      "2022-10-11 13:12:27,360 Initializing dataset AudioNav\n",
      "2022-10-11 13:12:27,369 Initializing dataset AudioNav\n",
      "2022-10-11 13:13:34,599 initializing sim SoundSpacesSim\n",
      "2022-10-11 13:13:35,135 Initializing task AudioNav\n"
     ]
    },
    {
     "data": {
      "text/plain": [
       "(Dict(audiogoal:Box(-3.4028235e+38, 3.4028235e+38, (2, 16000), float32), rgb:Box(0, 255, (128, 128, 3), uint8), spectrogram:Box(-3.4028235e+38, 3.4028235e+38, (65, 26, 2), float32)),\n",
       " ActionSpace(MOVE_FORWARD:EmptySpace(), STOP:EmptySpace(), TURN_LEFT:EmptySpace(), TURN_RIGHT:EmptySpace()))"
      ]
     },
     "execution_count": 3,
     "metadata": {},
     "output_type": "execute_result"
    }
   ],
   "source": [
    "\n",
    "# Load environment config\n",
    "is_SAVi = str.__contains__(args.config_path, \"savi\")\n",
    "if is_SAVi:\n",
    "    env_config = get_savi_config(config_paths=args.config_path)\n",
    "else:\n",
    "    env_config = get_config(config_paths=args.config_path)\n",
    "# endregion: Generating additional hyparams\n",
    "\n",
    "# Overriding some envs parametes from the .yaml env config\n",
    "env_config.defrost()\n",
    "env_config.NUM_PROCESSES = 1 # Corresponds to number of envs, makes script startup faster for debugs\n",
    "env_config.USE_SYNC_VECENV = True\n",
    "# env_config.USE_VECENV = False\n",
    "# env_config.CONTINUOUS = args.env_continuous\n",
    "## In caes video saving is enabled, make sure there is also the rgb videos\n",
    "env_config.freeze()\n",
    "# print(env_config)\n",
    "\n",
    "# Environment instantiation\n",
    "envs = construct_envs(env_config, get_env_class(env_config.ENV_NAME))\n",
    "single_observation_space = envs.observation_spaces[0]\n",
    "single_action_space = envs.action_spaces[0]\n",
    "\n",
    "single_observation_space, single_action_space"
   ]
  },
  {
   "cell_type": "code",
   "execution_count": 5,
   "metadata": {},
   "outputs": [
    {
     "data": {
      "text/plain": [
       "<All keys matched successfully>"
      ]
     },
     "execution_count": 5,
     "metadata": {},
     "output_type": "execute_result"
    }
   ],
   "source": [
    "# TODO seeding for reproducibility ? Make sure that we can control the generated episode trajs ?\n",
    "\n",
    "# Loading pretrained agent\n",
    "import models\n",
    "from models import ActorCritic, Perceiver_GWT_GWWM_ActorCritic\n",
    "## PPO GRU agent working with RGB observations\n",
    "# ppo_gru_agent_state_dict = th.load(\"/home/rousslan/random/rl/exp-logs/ss-hab/ppo_av_nav__ss1_rgb_spectro_seed_111__2022_09_06_13_59_13_931240.musashi/models/ppo_agent.994501.ckpt.pth\")\n",
    "# ppo_gru_agent_state_dict = th.load(\"/home/rousslan/random/rl/exp-logs/ss-hab-bc/ppo_bc2__ss1_rgb_spectro__gru__bsize_32_bchnklen_32__nsteps_50__entcoef_0.0__cew_58_1_1_1_seed_111__2022_10_06_10_28_22_571481.musashi/models/ppo_agent.3990001.ckpt.pth\")\n",
    "ppo_gru_agent_state_dict = th.load(\"/home/rousslan/random/rl/exp-logs/ss-hab-bc/ppo_bc2__ss1_rgb_spectro__gru__bsize_32_bchnklen_32__nsteps_50__cew_38.6_0.67_0.84_0.78_nogradnorm_seed_111__2022_10_08_17_24_31_002321.musashi/models/ppo_agent.3990001.ckpt.pth\")\n",
    "\n",
    "ppo_gru_agent = ActorCritic(single_observation_space, single_action_space, args.hidden_size, extra_rgb=False,\n",
    "    analysis_layers=models.GRU_ACTOR_CRITIC_DEFAULT_ANALYSIS_LAYER_NAMES)\n",
    "ppo_gru_agent.eval()\n",
    "ppo_gru_agent.load_state_dict(ppo_gru_agent_state_dict)\n",
    "\n",
    "## PPO PGWT working with RGB observations\n",
    "# ppo_pgwt_agent_state_dict = th.load(\"/home/rousslan/random/rl/exp-logs/ss-hab/ppo_av_nav__ss1_rgb_spectro__pgwt_gwwm__dpth_1_nlats_8_latdim_64_noSA_CAnheads_1_SAnheads_4_modembed_0_CAprevlats_seed_111__2022_09_06_14_43_49_094181.musashi/models/ppo_agent.993001.ckpt.pth\")\n",
    "# ppo_pgwt_agent_state_dict = th.load(\"/home/rousslan/random/rl/exp-logs/ss-hab-bc/ppo_bc2__ss1_rgb_spectro__pgwt_gwwm__dpth_1_nlats_8_latdim_64_noSA_CAprevlats__bsize_32_bchnklen_32__nsteps_50__entcoef_0__cew_58_1_1_1_seed_111__2022_10_06_10_28_22_227218.musashi/models/ppo_agent.3990001.ckpt.pth\")\n",
    "ppo_pgwt_agent_state_dict = th.load(\"/home/rousslan/random/rl/exp-logs/ss-hab-bc/ppo_bc2__ss1_rgb_spectro__pgwt_gwwm__dpth_1_nlats_8_latdim_64_noSA_CAprevlats__bsize_32_bchnklen_32__nsteps_50__cew_38.6_0.67_0.84_0.78_nogradnorm_seed_111__2022_10_08_17_24_31_001985.musashi/models/ppo_agent.3990001.ckpt.pth\")\n",
    "ppo_pgwt_agent = Perceiver_GWT_GWWM_ActorCritic(single_observation_space, single_action_space, args, extra_rgb=False,\n",
    "    analysis_layers=models.PGWT_GWWM_ACTOR_CRITIC_DEFAULT_ANALYSIS_LAYER_NAMES)\n",
    "ppo_pgwt_agent.eval()\n",
    "ppo_pgwt_agent.load_state_dict(ppo_pgwt_agent_state_dict)"
   ]
  },
  {
   "cell_type": "code",
   "execution_count": 6,
   "metadata": {},
   "outputs": [
    {
     "data": {
      "text/plain": [
       "28"
      ]
     },
     "execution_count": 6,
     "metadata": {},
     "output_type": "execute_result"
    }
   ],
   "source": [
    "\n",
    "# Collecting episode data\n",
    "## Helper\n",
    "dev = th.device(\"cpu\")\n",
    "def tensorize_obs_dict(obs, device, observations=None, rollout_step=None):\n",
    "    obs_th = {}\n",
    "    for obs_field, _ in obs[0].items():\n",
    "        v_th = th.Tensor(np.array([step_obs[obs_field] for step_obs in obs], dtype=np.float32)).to(device)\n",
    "        # in SS1.0, the dcepth observations comes as [B, 128, 128, 1, 1], so fix that\n",
    "        if obs_field == \"depth\" and v_th.dim() == 5:\n",
    "            v_th = v_th.squeeze(-1)\n",
    "        obs_th[obs_field] = v_th\n",
    "        # Special case when doing the rollout, also stores the \n",
    "        if observations is not None:\n",
    "            observations[obs_field][rollout_step] = v_th\n",
    "    \n",
    "    return obs_th\n",
    "\n",
    "obs_list, reward_list, done_list, info_list, action_list = [], [], [], [], []\n",
    "obs_th_list, done_th_list = [], [] \n",
    "\n",
    "rnn_hidden_state = th.zeros((1, args.num_envs, args.hidden_size), device=dev)\n",
    "\n",
    "obs, done = envs.reset(), [False for _ in range(args.num_envs)]\n",
    "done_th = th.Tensor(done).to(dev)\n",
    "masks = 1. - done_th[:, None]\n",
    "\n",
    "while not done_th.sum():\n",
    "    obs_th = tensorize_obs_dict(obs, dev)\n",
    "    done_th = th.Tensor(done).to(dev)\n",
    "    with th.no_grad():\n",
    "        action, action_probs, action_logprobs, _, value, rnn_hidden_state = \\\n",
    "            ppo_gru_agent.act(obs_th, rnn_hidden_state, masks=masks)\n",
    "    \n",
    "    outputs = envs.step([a[0].item() for a in action])\n",
    "    next_obs, reward, next_done, info = [list(x) for x in zip(*outputs)]\n",
    "\n",
    "    # NOTE obs_list and done_list would have one extra position than info_list\n",
    "    obs_list.append(obs)\n",
    "    done_list.append(done)\n",
    "    obs_th_list.append(obs_th)\n",
    "    done_th_list.append(done_th)\n",
    "\n",
    "    reward_list.append(reward)\n",
    "    info_list.append(info)\n",
    "    action_list.append(action.cpu().numpy())\n",
    "\n",
    "    # Prepare for the next step\n",
    "    obs = next_obs\n",
    "    done = next_done\n",
    "\n",
    "    # DEBUG: producing shorter sequence for downstream tests\n",
    "    # if len(obs_list) >= 100:\n",
    "    #     break\n",
    "\n",
    "len(obs_list) # Episode length"
   ]
  },
  {
   "cell_type": "code",
   "execution_count": 7,
   "metadata": {},
   "outputs": [],
   "source": [
    "# Intead of an episode sampled by the agents we have loaded, use manually stored episode data\n",
    "import pickle as pkl\n",
    "\n",
    "with open(\"obs_list__2022_09_21_13_35_dump.pkl\", \"rb\") as f:\n",
    "    obs_list = pkl.load(f)\n",
    "\n",
    "obs_list = obs_list[:80] # Manual capping for better visibility\n",
    "\n",
    "# Match the expected format of the obs_th_list and done_th_list below\n",
    "# type(done_th_list), len(done_th_list) # (list, 21)\n",
    "# type(done_th_list[0]), len(done_th_list[0]) # (torch.Tensor, 1)\n",
    "done_th_list2 = [th.Tensor([0]) for _ in range(len(obs_list))]\n",
    "# type(done_th_list2), len(done_th_list2) # (list, 80)\n",
    "# type(done_th_list2[0]), len(done_th_list2[0]) # (torch.Tensor, 1)\n",
    "\n",
    "\n",
    "# type(obs_th_list), len(obs_th_list)\n",
    "# type(obs_th_list[0]), len(obs_th_list[0]), list(obs_th_list[0].keys()) # (dict, 3, ['rgb', 'audiogoal', 'spectrogram'])\n",
    "# [v.shape for v in obs_th_list[0].values()] # [torch.Size([1, 128, 128, 3]), torch.Size([1, 2, 16000]), torch.Size([1, 65, 26, 2])]\n",
    "\n",
    "obs_th_list2 = [{k: th.Tensor(v)[None, :] for k,v in obs_list[i][0].items()} for i in range(len(obs_list))]\n",
    "# type(obs_th_list2[0]), len(obs_th_list2[0]), list(obs_th_list2[0].keys()) # (dict, 3, ['rgb', 'audiogoal', 'spectrogram']), matching 'obs_th_list\" expecteation\n",
    "# [v.shape for v in obs_th_list2[0].values()] # [torch.Size([1, 128, 128, 3]), torch.Size([1, 2, 16000]), torch.Size([1, 65, 26, 2])]\n"
   ]
  },
  {
   "cell_type": "code",
   "execution_count": 8,
   "metadata": {},
   "outputs": [],
   "source": [
    "# Feed a given trajectory to each agent type, and collect the intermediate features of the network at each step\n",
    "ppo_gru_analysis_feats__raw = {}\n",
    "ppo_pgwt_analysis_feats__raw = {}\n",
    "\n",
    "# Resets the rnn_hidden_states for each agent\n",
    "gru_rnn_hidden_state = th.zeros((1, args.num_envs, args.hidden_size), device=dev)\n",
    "pgwt_rnn_hidden_state = ppo_pgwt_agent.state_encoder.latents.clone()\n",
    "gru_rnn_hidden_state.shape, pgwt_rnn_hidden_state.shape\n",
    "\n",
    "# for t, (obs_th, done_th) in enumerate(zip(obs_th_list, done_th_list)):\n",
    "for t, (obs_th, done_th) in enumerate(zip(obs_th_list2, done_th_list2)):\n",
    "    # Feeding the same sequence of observatiosn to each type of agent\n",
    "    masks = 1. - done_th[:, None]\n",
    "    with th.no_grad():\n",
    "        # NOTE: rnn_hidden_state or pgwt's latent are already collected in \"state_encoder\" field in _features\n",
    "        _, _, _, _, _, rnn_hidden_state = ppo_gru_agent.act(obs_th, rnn_hidden_state, masks)\n",
    "        _, _, _, _, _, pgwt_rnn_hidden_state = ppo_pgwt_agent.act(obs_th, pgwt_rnn_hidden_state, masks)\n",
    "\n",
    "\n",
    "    # Collecting intermediate layer results\n",
    "    ## PPO GRU\n",
    "    for k,v in ppo_gru_agent._features.items():\n",
    "        if k not in list(ppo_gru_analysis_feats__raw.keys()):\n",
    "            ppo_gru_analysis_feats__raw[k] = []\n",
    "        ppo_gru_analysis_feats__raw[k].append(v)\n",
    "    \n",
    "    ## PPO PGWT\n",
    "    for k, v in ppo_pgwt_agent._features.items():\n",
    "        if k not in list(ppo_pgwt_analysis_feats__raw.keys()):\n",
    "            ppo_pgwt_analysis_feats__raw[k] = []\n",
    "        ppo_pgwt_analysis_feats__raw[k].append(v)\n",
    "\n",
    "# TODO: additioanl processing to make it nicely organized tensors\n",
    "## NOTE: there are some keys that will have tuple of shape 2 or 3, need to take account for that\n",
    "ppo_gru_analysis_feats = {}\n",
    "ppo_pgwt_analysis_feats = {}\n",
    "\n",
    "def process_analysis_feats_raw(raw_dict):\n",
    "    result_dict = {}\n",
    "\n",
    "    for k, v in raw_dict.items():\n",
    "        if isinstance(v[0], th.Tensor):\n",
    "            new_v = th.cat(v, dim=0)\n",
    "        elif isinstance(v[0], tuple):\n",
    "            new_v = None # TODO\n",
    "            n_elements = len(v[0])\n",
    "            elements = [[] for _ in range(n_elements)]\n",
    "            for j in range(n_elements):\n",
    "                for i in range(len(v)):\n",
    "                    elements[j].append(v[i][j])\n",
    "            \n",
    "            new_v = [th.cat(vv, dim=0) for vv in elements]\n",
    "        else:\n",
    "            raise Exception(f\"Unhandled type: {v[0].__class__}\")\n",
    "    \n",
    "        result_dict[k] = new_v\n",
    "    \n",
    "    return result_dict\n",
    "\n",
    "ppo_gru_analysis_feats = process_analysis_feats_raw(ppo_gru_analysis_feats__raw)\n",
    "ppo_pgwt_analysis_feats = process_analysis_feats_raw(ppo_pgwt_analysis_feats__raw)"
   ]
  },
  {
   "cell_type": "code",
   "execution_count": 9,
   "metadata": {},
   "outputs": [
    {
     "data": {
      "text/plain": [
       "(torch.Size([80, 8, 64]), torch.Size([80, 8, 3]))"
      ]
     },
     "execution_count": 9,
     "metadata": {},
     "output_type": "execute_result"
    }
   ],
   "source": [
    "list(ppo_gru_analysis_feats.keys())\n",
    "\n",
    "ppo_gru_analysis_feats[\"state_encoder\"][0].shape, ppo_gru_analysis_feats[\"state_encoder\"][1].shape\n",
    "ppo_pgwt_analysis_feats[\"state_encoder\"][0].shape, ppo_pgwt_analysis_feats[\"state_encoder\"][1].shape\n",
    "\n",
    "ppo_gru_analysis_feats[\"state_encoder\"][0].shape, ppo_pgwt_analysis_feats[\"state_encoder\"][0].shape\n",
    "\n",
    "ppo_gru_analysis_feats[\"visual_encoder.cnn.0\"][0].shape, ppo_pgwt_analysis_feats[\"visual_encoder.cnn.0\"][0].shape\n",
    "ppo_gru_analysis_feats[\"visual_encoder.cnn.1\"][0].shape, ppo_pgwt_analysis_feats[\"visual_encoder.cnn.1\"][0].shape\n",
    "ppo_gru_analysis_feats[\"visual_encoder.cnn.1\"][-100:].shape, ppo_pgwt_analysis_feats[\"visual_encoder.cnn.1\"][-100:].shape\n",
    "# list(ppo_gru_analysis_feats__raw.keys())\n",
    "\n",
    "## Attention weights\n",
    "ppo_pgwt_analysis_feats[\"state_encoder.ca.mha\"][0].shape, ppo_pgwt_analysis_feats[\"state_encoder.ca.mha\"][1].shape\n",
    "\n",
    "# len(ppo_gru_analysis_feats__raw[\"state_encoder\"]), len(ppo_gru_analysis_feats__raw[\"state_encoder\"][0])\n",
    "# ppo_gru_analysis_feats[\"critic.fc\"].shape\n",
    "# th.cat(ppo_gru_analysis_feats[\"critic.fc\"], dim=0).shape # [T, ...]\n",
    "\n",
    "# ppo_gru_analysis_feats[\"visual_encoder.cnn.0\"].shape\n",
    "# th.cat(ppo_gru_analysis_feats[\"visual_encoder.cnn.0\"], dim=0).shape # [T, ...]"
   ]
  },
  {
   "cell_type": "code",
   "execution_count": 10,
   "metadata": {},
   "outputs": [
    {
     "data": {
      "text/plain": [
       "(torch.Size([80, 512]), torch.Size([80, 8, 64]))"
      ]
     },
     "execution_count": 10,
     "metadata": {},
     "output_type": "execute_result"
    }
   ],
   "source": [
    "ppo_pgwt_analysis_feats[\"state_encoder\"][0].shape, ppo_pgwt_analysis_feats[\"state_encoder\"][1].shape"
   ]
  },
  {
   "cell_type": "code",
   "execution_count": 11,
   "metadata": {},
   "outputs": [
    {
     "data": {
      "text/plain": [
       "(<Figure size 800x800 with 1 Axes>,\n",
       " array([[<AxesSubplot:title={'center':'PPO PGWT: state_feats'}>]],\n",
       "       dtype=object),\n",
       " defaultdict(dict,\n",
       "             {<AxesSubplot:title={'center':'PPO PGWT: state_feats'}>: {'image': <matplotlib.image.AxesImage at 0x7f25711320d0>}}))"
      ]
     },
     "execution_count": 11,
     "metadata": {},
     "output_type": "execute_result"
    },
    {
     "data": {
      "image/png": "[encoded data removed]",
      "text/plain": [
       "<Figure size 576x576 with 1 Axes>"
      ]
     },
     "metadata": {},
     "output_type": "display_data"
    },
    {
     "data": {
      "image/png": "[encoded data removed]",
      "text/plain": [
       "<Figure size 800x800 with 1 Axes>"
      ]
     },
     "metadata": {},
     "output_type": "display_data"
    }
   ],
   "source": [
    "# Basic RSA Toolbox usage\n",
    "import rsatoolbox\n",
    "\n",
    "# ppo_gru_data = rsatoolbox.data.Dataset(ppo_gru_analysis_feats[\"visual_encoder.cnn.0\"].flatten(start_dim=1).cpu().numpy())\n",
    "# ppo_pgwt_data = rsatoolbox.data.Dataset(ppo_pgwt_analysis_feats[\"visual_encoder.cnn.0\"].flatten(start_dim=1).cpu().numpy())\n",
    "\n",
    "# ppo_gru_data = rsatoolbox.data.Dataset(ppo_gru_analysis_feats[\"visual_encoder.cnn.7\"].flatten(start_dim=1).cpu().numpy())\n",
    "# ppo_pgwt_data = rsatoolbox.data.Dataset(ppo_pgwt_analysis_feats[\"visual_encoder.cnn.7\"].flatten(start_dim=1).cpu().numpy())\n",
    "\n",
    "ppo_gru_data = rsatoolbox.data.Dataset(ppo_gru_analysis_feats[\"state_encoder\"][0][-64:].flatten(start_dim=1).cpu().numpy())\n",
    "ppo_pgwt_data = rsatoolbox.data.Dataset(ppo_pgwt_analysis_feats[\"state_encoder\"][0][-64:].flatten(start_dim=1).cpu().numpy())\n",
    "\n",
    "# ppo_gru_data = rsatoolbox.data.Dataset(ppo_gru_analysis_feats[\"critic.fc\"].flatten(start_dim=1).cpu().numpy())\n",
    "# ppo_pgwt_data = rsatoolbox.data.Dataset(ppo_pgwt_analysis_feats[\"critic.fc\"].flatten(start_dim=1).cpu().numpy())\n",
    "\n",
    "# ppo_gru_data = rsatoolbox.data.Dataset(ppo_gru_analysis_feats[\"action_distribution.linear\"][-64:].flatten(start_dim=1).cpu().numpy())\n",
    "# ppo_pgwt_data = rsatoolbox.data.Dataset(ppo_pgwt_analysis_feats[\"action_distribution.linear\"][-64:].flatten(start_dim=1).cpu().numpy())\n",
    "\n",
    "ppo_gru_rdms = rsatoolbox.rdm.calc_rdm(ppo_gru_data)\n",
    "ppo_pgwt_rdms = rsatoolbox.rdm.calc_rdm(ppo_pgwt_data)\n",
    "\n",
    "FIGSIZE = (8,8)\n",
    "rsatoolbox.vis.show_rdm(ppo_gru_rdms, figsize=FIGSIZE, rdm_descriptor=f\"PPO GRU: state_feats\")\n",
    "rsatoolbox.vis.show_rdm(ppo_pgwt_rdms, figsize=FIGSIZE, rdm_descriptor=f\"PPO PGWT: state_feats\")"
   ]
  },
  {
   "cell_type": "code",
   "execution_count": 30,
   "metadata": {},
   "outputs": [
    {
     "data": {
      "text/plain": [
       "(0.53091496, 0.16805474)"
      ]
     },
     "execution_count": 30,
     "metadata": {},
     "output_type": "execute_result"
    }
   ],
   "source": [
    "# Prototyping average similarity computation\n",
    "# ppo_gru_rdms.dissimilarities.shape # (1, 2016)\n",
    "# Compute \n",
    "dissimilarity_mean, dissimilarity_std = np.mean(ppo_gru_rdms.dissimilarities), np.std(ppo_gru_rdms.dissimilarities); dissimilarity_mean, dissimilarity_std"
   ]
  },
  {
   "cell_type": "code",
   "execution_count": 60,
   "metadata": {},
   "outputs": [],
   "source": [
    "# Systematic plotting for each shared intermediate layers\n",
    "# list(ppo_gru_analysis_feats.keys()), list(ppo_pgwt_analysis_feats.keys())\n",
    "all_layers = set([\n",
    "    *list(ppo_gru_analysis_feats.keys()),\n",
    "    *list(ppo_pgwt_analysis_feats.keys())\n",
    "])\n",
    "shared_layers = []\n",
    "visual_encoder_layernames = []\n",
    "audio_encoder_layernames = []\n",
    "for x in all_layers:\n",
    "    if x in ppo_gru_analysis_feats.keys() and x in ppo_pgwt_analysis_feats.keys():\n",
    "        shared_layers.append(x)\n",
    "    if x.startswith(\"visual_encoder\"):\n",
    "        visual_encoder_layernames.append(x)\n",
    "    if x.startswith(\"audio_encoder\"):\n",
    "        audio_encoder_layernames.append(x)\n",
    "\n",
    "# Place holder for average dissimilarities\n",
    "rdms_mean_std = {\n",
    "    \"ppo_gru\": {},\n",
    "    \"ppo_pgwt\": {}\n",
    "}\n",
    "\n",
    "for layername in sorted(shared_layers):\n",
    "    # TODO: handle this special case\n",
    "    if isinstance(ppo_gru_analysis_feats[layername], list):\n",
    "        ppo_gru_data = rsatoolbox.data.Dataset(ppo_gru_analysis_feats[layername][0][-64:].flatten(start_dim=1).cpu().numpy())\n",
    "        ppo_pgwt_data = rsatoolbox.data.Dataset(ppo_pgwt_analysis_feats[layername][0][-64:].flatten(start_dim=1).cpu().numpy())\n",
    "    else:\n",
    "        ppo_gru_data = rsatoolbox.data.Dataset(ppo_gru_analysis_feats[layername][-64:].flatten(start_dim=1).cpu().numpy())\n",
    "        ppo_pgwt_data = rsatoolbox.data.Dataset(ppo_pgwt_analysis_feats[layername][-64:].flatten(start_dim=1).cpu().numpy())\n",
    "\n",
    "    # TODO: change method of comparison cosine dist, whitened cosine dist., Spearman Rho\n",
    "    ppo_gru_rdms = rsatoolbox.rdm.calc_rdm(ppo_gru_data)\n",
    "    ppo_pgwt_rdms = rsatoolbox.rdm.calc_rdm(ppo_pgwt_data)\n",
    "\n",
    "    # Compute the mean and std of the dissimilarities\n",
    "    rdms_mean_std[\"ppo_gru\"][layername] = {\"mean\": np.mean(ppo_gru_rdms.dissimilarities), \"std\": np.std(ppo_gru_rdms.dissimilarities)}\n",
    "    rdms_mean_std[\"ppo_pgwt\"][layername] = {\"mean\": np.mean(ppo_pgwt_rdms.dissimilarities), \"std\": np.std(ppo_pgwt_rdms.dissimilarities)}\n",
    "\n",
    "    # Plot the RDMS independently\n",
    "    # rsatoolbox.vis.show_rdm(ppo_gru_rdms, figsize=(8,8), rdm_descriptor=f\"PPO GRU: {layername}\")\n",
    "    # rsatoolbox.vis.show_rdm(ppo_pgwt_rdms, figsize=(8,8), rdm_descriptor=f\"PPO PGWT: {layername}\")"
   ]
  },
  {
   "cell_type": "code",
   "execution_count": 81,
   "metadata": {},
   "outputs": [],
   "source": [
    "# Computing sparsity\n",
    "## 1 indicates very selective response, while 0 indicates equal response to all inputs\n",
    "ppo_gru_analysis_feats[\"visual_encoder.cnn.0\"]\n",
    "\n",
    "# vis_cnn_0__response_list = ppo_gru_analysis_feats[\"visual_encoder.cnn.0\"].flatten(start_dim=1)\n",
    "\n",
    "# Helper method\n",
    "def compute_sparsity(response_list):\n",
    "    n_images, n_neurons = response_list.shape\n",
    "    neurons_sparsity_list = []\n",
    "    \n",
    "    for i in range(n_neurons):\n",
    "        # TODO: properly handle the NaN that occurs when the response is 0\n",
    "        a = (response_list[:, i].sum().pow(2) + 1e-8) / (response_list[:, i].pow(2).sum() + 1e-8)\n",
    "        b = 1 / n_images\n",
    "        neurons_sparsity_list.append( (1 - (b * a)) / (1 - b))\n",
    "    \n",
    "    return np.array(neurons_sparsity_list)\n",
    "\n",
    "# vis_cnn_0__neuron_sparsity = compute_sparsity(vis_cnn_0__response_list); vis_cnn_0__neuron_sparsity.mean()\n",
    "# [vis_cnn_0__response_list[:, i].sum().pow(2) for i in range(vis_cnn_0__response_list.shape[1])]\n",
    "# [vis_cnn_0__response_list[:, i].pow(2).sum() for i in range(vis_cnn_0__response_list.shape[1])]\n",
    "\n",
    "layer_sparsities = {\n",
    "    \"ppo_gru\": {},\n",
    "    \"ppo_pgwt\": {}\n",
    "}\n",
    "\n",
    "for layername in sorted(shared_layers):\n",
    "    if isinstance(ppo_gru_analysis_feats[layername], list):\n",
    "        ppo_gru_layer_response_list = ppo_gru_analysis_feats[layername][0].flatten(start_dim=1)\n",
    "        ppo_pgwt_layer_response_list = ppo_pgwt_analysis_feats[layername][0].flatten(start_dim=1)\n",
    "    else:\n",
    "        ppo_gru_layer_response_list = ppo_gru_analysis_feats[layername].flatten(start_dim=1)\n",
    "        ppo_pgwt_layer_response_list = ppo_pgwt_analysis_feats[layername].flatten(start_dim=1)\n",
    "    \n",
    "    ppo_gru_layer_sparsities = compute_sparsity(ppo_gru_layer_response_list)\n",
    "    ppo_pgwt_layer_sparsities = compute_sparsity(ppo_pgwt_layer_response_list)\n",
    "\n",
    "    layer_sparsities[\"ppo_gru\"][layername] = ppo_gru_layer_sparsities\n",
    "    layer_sparsities[\"ppo_pgwt\"][layername] = ppo_pgwt_layer_sparsities"
   ]
  },
  {
   "cell_type": "code",
   "execution_count": 108,
   "metadata": {},
   "outputs": [
    {
     "data": {
      "text/plain": [
       "<ErrorbarContainer object of 3 artists>"
      ]
     },
     "execution_count": 108,
     "metadata": {},
     "output_type": "execute_result"
    },
    {
     "data": {
      "image/png": "[encoded data removed]",
      "text/plain": [
       "<Figure size 1152x576 with 2 Axes>"
      ]
     },
     "metadata": {
      "needs_background": "light"
     },
     "output_type": "display_data"
    }
   ],
   "source": [
    "# Sparsity related plots\n",
    "## For each layers\n",
    "fig, axes = plt.subplots(1, 2, figsize=(8 * 2,8))\n",
    "\n",
    "# TODO: accumulate sparsities across all layers, then compute the median and other stats for the plots\n",
    "x = np.arange(len(shared_layers))\n",
    "ppo_gru_y = [np.median(layer_sparsities[\"ppo_gru\"][layername]) for layername in shared_layers]\n",
    "ppo_pgwt_y =[np.median(layer_sparsities[\"ppo_pgwt\"][layername]) for layername in shared_layers]\n",
    "\n",
    "ppo_gru_yerr = [np.std(layer_sparsities[\"ppo_gru\"][layername]) for layername in shared_layers]\n",
    "ppo_pgwt_yerr = [np.std(layer_sparsities[\"ppo_pgwt\"][layername]) for layername in shared_layers]\n",
    "\n",
    "axes[0].errorbar(x, ppo_gru_y, ppo_gru_yerr, color=\"blue\", fmt=\"none\")\n",
    "axes[1].errorbar(x, ppo_pgwt_y, ppo_pgwt_yerr, color=\"orange\", fmt=\"none\")\n",
    "# fig.show()"
   ]
  },
  {
   "cell_type": "code",
   "execution_count": 127,
   "metadata": {},
   "outputs": [
    {
     "data": {
      "image/png": "[encoded data removed]",
      "text/plain": [
       "<Figure size 576x576 with 1 Axes>"
      ]
     },
     "metadata": {
      "needs_background": "light"
     },
     "output_type": "display_data"
    }
   ],
   "source": [
    "# Sparsity related plots\n",
    "## For the whole network + violin\n",
    "ppo_gru_sparsities, ppo_pgwt_sparsities = [], []\n",
    "for layername in shared_layers:\n",
    "    ppo_gru_sparsities.extend(layer_sparsities[\"ppo_gru\"][layername])\n",
    "    ppo_pgwt_sparsities.extend(layer_sparsities[\"ppo_pgwt\"][layername])\n",
    "# len(ppo_gru_sparsities), len(ppo_pgwt_sparsities)\n",
    "\n",
    "fig, ax = plt.subplots(1,1, figsize=(8,8))\n",
    "x = np.arange(2)\n",
    "x_tickslabels = [\"PPO GRU\", \"PPO PGWT\"]\n",
    "\n",
    "y = [np.mean(ppo_gru_sparsities), np.mean(ppo_pgwt_sparsities)]\n",
    "yerr = [np.std(ppo_gru_sparsities), np.std(ppo_pgwt_sparsities)]\n",
    "\n",
    "ax.violinplot([\n",
    "    ppo_gru_sparsities, ppo_pgwt_sparsities\n",
    "], positions=[0, 1], showmedians=True)\n",
    "ax.set_xticks(x)\n",
    "ax.set_xticklabels(x_tickslabels)\n",
    "# ax.errorbar(x, y, yerr, fmt=\"none\")\n",
    "# ax.set_xticklabels(x_tickslabels)\n",
    "fig.show()"
   ]
  },
  {
   "cell_type": "code",
   "execution_count": 64,
   "metadata": {},
   "outputs": [
    {
     "data": {
      "text/plain": [
       "rsatoolbox.rdm.RDMs(\n",
       "dissimilarity_measure = \n",
       "squared euclidean\n",
       "dissimilarities = \n",
       "[[18.515062  18.515062  12.6179285 ...  9.241364  10.217552   4.2365685]]\n",
       "descriptors = \n",
       "{}\n",
       "rdm_descriptors = \n",
       "{'index': [0]}\n",
       "pattern_descriptors = \n",
       "{'index': [0, 1, 2, 3, 4, 5, 6, 7, 8, 9, 10, 11, 12, 13, 14, 15, 16, 17, 18, 19, 20, 21, 22, 23, 24, 25, 26, 27, 28, 29, 30, 31, 32, 33, 34, 35, 36, 37, 38, 39, 40, 41, 42, 43, 44, 45, 46, 47, 48, 49, 50, 51, 52, 53, 54, 55, 56, 57, 58, 59, 60, 61, 62, 63], 'pattern': array([ 0,  1,  2,  3,  4,  5,  6,  7,  8,  9, 10, 11, 12, 13, 14, 15, 16,\n",
       "       17, 18, 19, 20, 21, 22, 23, 24, 25, 26, 27, 28, 29, 30, 31, 32, 33,\n",
       "       34, 35, 36, 37, 38, 39, 40, 41, 42, 43, 44, 45, 46, 47, 48, 49, 50,\n",
       "       51, 52, 53, 54, 55, 56, 57, 58, 59, 60, 61, 62, 63])}"
      ]
     },
     "execution_count": 64,
     "metadata": {},
     "output_type": "execute_result"
    }
   ],
   "source": [
    "# TODO: Comparing RDMs"
   ]
  },
  {
   "cell_type": "code",
   "execution_count": 57,
   "metadata": {},
   "outputs": [
    {
     "data": {
      "text/plain": [
       "<ErrorbarContainer object of 3 artists>"
      ]
     },
     "execution_count": 57,
     "metadata": {},
     "output_type": "execute_result"
    },
    {
     "data": {
      "image/png": "[encoded data removed]",
      "text/plain": [
       "<Figure size 800x800 with 1 Axes>"
      ]
     },
     "metadata": {},
     "output_type": "display_data"
    }
   ],
   "source": [
    "# # Plotting average similiarities\n",
    "# visual_encoder_layernames, audio_encoder_layernames\n",
    "\n",
    "import matplotlib.pyplot as plt # TODO: move to the top\n",
    "fig, ax = plt.subplots(1,1, figsize=(8,8))\n",
    "\n",
    "x = np.arange(len(visual_encoder_layernames))\n",
    "y = np.array([rdms_mean_std[\"ppo_gru\"][x][\"mean\"] for x in visual_encoder_layernames])\n",
    "yerr = np.array([rdms_mean_std[\"ppo_gru\"][x][\"std\"] for x in visual_encoder_layernames])\n",
    "\n",
    "ax.errorbar(x, y, yerr=yerr, fmt='none', ecolor='blue', color='black')\n",
    "# yerr\n",
    "\n",
    "# x = np.arange(8)\n",
    "# y1 = np.exp(-1.0 * x)\n",
    "# yerr = np.random.uniform(0.5,1)\n",
    "\n",
    "# # ax.errorbar(x, y1)\n"
   ]
  },
  {
   "cell_type": "code",
   "execution_count": 107,
   "metadata": {},
   "outputs": [
    {
     "data": {
      "text/plain": [
       "torch.Size([80, 8, 3])"
      ]
     },
     "execution_count": 107,
     "metadata": {},
     "output_type": "execute_result"
    }
   ],
   "source": [
    "## Checking the CA's attentin weighting over each modality ?\n",
    "\n",
    "ppo_pgwt_analysis_feats[\"state_encoder.ca.mha\"][1].shape # Full attention weights over the whole episode [44,8,3]\n",
    "# ppo_pgwt_analysis_feats[\"state_encoder.ca.mha\"][1][0, :, :].sum(dim=1)"
   ]
  },
  {
   "cell_type": "code",
   "execution_count": 108,
   "metadata": {},
   "outputs": [
    {
     "data": {
      "image/png": "[encoded data removed]",
      "text/plain": [
       "<Figure size 360x360 with 1 Axes>"
      ]
     },
     "metadata": {
      "needs_background": "light"
     },
     "output_type": "display_data"
    }
   ],
   "source": [
    "%matplotlib inline\n",
    "import matplotlib.pyplot as plt\n",
    "\n",
    "fig, ax = plt.subplots(1,1, figsize=(5,5))\n",
    "ep_length = ppo_pgwt_analysis_feats[\"state_encoder.ca.mha\"][1].shape[0]\n",
    "x = np.arange(ep_length)\n",
    "\n",
    "MOD_AXIS_TO_NAME = {0: \"Audio\", 1: \"RGB\", 2: \"Prev. Latent\" }\n",
    "MOD_AXIS_TO_COLOR = { 0: \"orange\", 1: \"blue\", 2: \"green\" }\n",
    "\n",
    "for mod_axis in range(3):\n",
    "    ax.plot(x, ppo_pgwt_analysis_feats[\"state_encoder.ca.mha\"][1].mean(1)[:, mod_axis],\n",
    "            label=MOD_AXIS_TO_NAME[mod_axis],\n",
    "            color=MOD_AXIS_TO_COLOR[mod_axis])\n",
    "fig.legend()\n",
    "fig.tight_layout()\n",
    "fig.show()\n"
   ]
  },
  {
   "cell_type": "code",
   "execution_count": 14,
   "metadata": {},
   "outputs": [
    {
     "ename": "KeyError",
     "evalue": "'name'",
     "output_type": "error",
     "traceback": [
      "\u001b[0;31m---------------------------------------------------------------------------\u001b[0m",
      "\u001b[0;31mKeyError\u001b[0m                                  Traceback (most recent call last)",
      "\u001b[1;32m/home/rousslan/random/rl/ss-hab/ppo/ppo_sample_collect_anal.ipynb Cell 14\u001b[0m in \u001b[0;36m<cell line: 5>\u001b[0;34m()\u001b[0m\n\u001b[1;32m      <a href='vscode-notebook-cell://ssh-remote%2Bmusashi/home/rousslan/random/rl/ss-hab/ppo/ppo_sample_collect_anal.ipynb#X16sdnNjb2RlLXJlbW90ZQ%3D%3D?line=1'>2</a>\u001b[0m ppo_gru_rdms \u001b[39m=\u001b[39m rsatoolbox\u001b[39m.\u001b[39mrdm\u001b[39m.\u001b[39mcalc_rdm(ppo_gru_data)\n\u001b[1;32m      <a href='vscode-notebook-cell://ssh-remote%2Bmusashi/home/rousslan/random/rl/ss-hab/ppo/ppo_sample_collect_anal.ipynb#X16sdnNjb2RlLXJlbW90ZQ%3D%3D?line=2'>3</a>\u001b[0m ppo_pgwt_rdms \u001b[39m=\u001b[39m rsatoolbox\u001b[39m.\u001b[39mrdm\u001b[39m.\u001b[39mcalc_rdm(ppo_pgwt_data)\n\u001b[0;32m----> <a href='vscode-notebook-cell://ssh-remote%2Bmusashi/home/rousslan/random/rl/ss-hab/ppo/ppo_sample_collect_anal.ipynb#X16sdnNjb2RlLXJlbW90ZQ%3D%3D?line=4'>5</a>\u001b[0m rsatoolbox\u001b[39m.\u001b[39;49mvis\u001b[39m.\u001b[39;49mrdm_comparison_scatterplot((ppo_gru_rdms, ppo_pgwt_rdms))\n",
      "File \u001b[0;32m~/anaconda3/envs/ss-hab-headless-py39/lib/python3.9/site-packages/rsatoolbox/vis/rdm_comparison.py:156\u001b[0m, in \u001b[0;36mrdm_comparison_scatterplot\u001b[0;34m(rdms, show_marginal_distributions, show_identity_line, show_legend, highlight_selector, highlight_categories, colors, axlim, hist_bins)\u001b[0m\n\u001b[1;32m    151\u001b[0m _do_scatter_plot(sub_axis, rdm_for_row, rdm_for_col,\n\u001b[1;32m    152\u001b[0m                  highlight_categories, category_idxs,\n\u001b[1;32m    153\u001b[0m                  highlight_selector, colors)\n\u001b[1;32m    155\u001b[0m \u001b[39mif\u001b[39;00m is_bottom_row:\n\u001b[0;32m--> 156\u001b[0m     sub_axis\u001b[39m.\u001b[39mset_xlabel(\u001b[39mf\u001b[39m\u001b[39m\"\u001b[39m\u001b[39m{\u001b[39;00mrdm_for_col\u001b[39m.\u001b[39mrdm_descriptors[\u001b[39m'\u001b[39m\u001b[39mname\u001b[39m\u001b[39m'\u001b[39m][\u001b[39m0\u001b[39m]\u001b[39m}\u001b[39;00m\u001b[39m\"\u001b[39m\n\u001b[1;32m    157\u001b[0m                         \u001b[39mf\u001b[39m\u001b[39m\"\u001b[39m\u001b[39m dissimilarity\u001b[39m\u001b[39m\"\u001b[39m)\n\u001b[1;32m    158\u001b[0m \u001b[39mif\u001b[39;00m is_leftmost_col:\n\u001b[1;32m    159\u001b[0m     sub_axis\u001b[39m.\u001b[39mset_ylabel(\u001b[39mf\u001b[39m\u001b[39m\"\u001b[39m\u001b[39m{\u001b[39;00mrdm_for_row\u001b[39m.\u001b[39mrdm_descriptors[\u001b[39m'\u001b[39m\u001b[39mname\u001b[39m\u001b[39m'\u001b[39m][\u001b[39m0\u001b[39m]\u001b[39m}\u001b[39;00m\u001b[39m\"\u001b[39m\n\u001b[1;32m    160\u001b[0m                         \u001b[39mf\u001b[39m\u001b[39m\"\u001b[39m\u001b[39m dissimilarity\u001b[39m\u001b[39m\"\u001b[39m)\n",
      "\u001b[0;31mKeyError\u001b[0m: 'name'"
     ]
    },
    {
     "data": {
      "image/png": "[encoded data removed]",
      "text/plain": [
       "<Figure size 576x576 with 1 Axes>"
      ]
     },
     "metadata": {
      "needs_background": "light"
     },
     "output_type": "display_data"
    }
   ],
   "source": [
    "# Comparing RDMs against each other\n",
    "ppo_gru_rdms = rsatoolbox.rdm.calc_rdm(ppo_gru_data)\n",
    "ppo_pgwt_rdms = rsatoolbox.rdm.calc_rdm(ppo_pgwt_data)\n",
    "\n",
    "rsatoolbox.vis.rdm_comparison_scatterplot((ppo_gru_rdms, ppo_pgwt_rdms))"
   ]
  },
  {
   "cell_type": "code",
   "execution_count": null,
   "metadata": {},
   "outputs": [],
   "source": [
    "# Generating video with audio from the sampled episode\n",
    "import os\n",
    "import pickle as pkl\n",
    "from ss_baselines.common.utils import images_to_video_with_audio, plot_top_down_map\n",
    "\n",
    "video_data = {\n",
    "    \"rgb\": [obs[0][\"rgb\"] for obs in obs_list],\n",
    "    \"audiogoal\": [obs[0][\"audiogoal\"] for obs in obs_list]\n",
    "}\n",
    "video_dir_path = \"/tmp\"\n",
    "video_filename = \"episode_video\"\n",
    "\n",
    "# Save video to file\n",
    "images_to_video_with_audio(\n",
    "    images=video_data[\"rgb\"][-64:],\n",
    "    audios=video_data[\"audiogoal\"][-64:],\n",
    "    output_dir=video_dir_path,\n",
    "    video_name=video_filename,\n",
    "    sr=env_config.TASK_CONFIG.SIMULATOR.AUDIO.RIR_SAMPLING_RATE, # 16000 for mp3d dataset\n",
    "    fps=1 # Default seems to be 10 though\n",
    ")\n",
    "\n",
    "# TODO: check the Notebook video playing feature again\n",
    "from IPython.display import Video\n",
    "Video(url=os.path.join(video_dir_path, video_filename))\n",
    "\n",
    "# Dump the frame dicts for later\n",
    "filename = \"obs_list__2022_09_21_13_35_dump.pkl\"\n",
    "with open(filename, \"wb\") as f:\n",
    "    pkl.dump(obs_list, f)"
   ]
  },
  {
   "cell_type": "code",
   "execution_count": null,
   "metadata": {},
   "outputs": [],
   "source": []
  }
 ],
 "metadata": {
  "kernelspec": {
   "display_name": "Python 3.9.12 ('ss-hab-headless-py39')",
   "language": "python",
   "name": "python3"
  },
  "language_info": {
   "codemirror_mode": {
    "name": "ipython",
    "version": 3
   },
   "file_extension": ".py",
   "mimetype": "text/x-python",
   "name": "python",
   "nbconvert_exporter": "python",
   "pygments_lexer": "ipython3",
   "version": "3.9.12"
  },
  "orig_nbformat": 4,
  "vscode": {
   "interpreter": {
    "hash": "8606c1569764bc263c51958f68bba938f45460ba430fa08f16cdd64c0c2e55c2"
   }
  }
 },
 "nbformat": 4,
 "nbformat_minor": 2
}
